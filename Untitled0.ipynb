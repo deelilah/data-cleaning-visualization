{
  "nbformat": 4,
  "nbformat_minor": 0,
  "metadata": {
    "colab": {
      "name": "Untitled0.ipynb",
      "provenance": [],
      "collapsed_sections": [],
      "include_colab_link": true
    },
    "kernelspec": {
      "name": "python3",
      "display_name": "Python 3"
    }
  },
  "cells": [
    {
      "cell_type": "markdown",
      "metadata": {
        "id": "view-in-github",
        "colab_type": "text"
      },
      "source": [
        "<a href=\"https://colab.research.google.com/github/deelilah/datascience/blob/master/Untitled0.ipynb\" target=\"_parent\"><img src=\"https://colab.research.google.com/assets/colab-badge.svg\" alt=\"Open In Colab\"/></a>"
      ]
    },
    {
      "cell_type": "code",
      "metadata": {
        "id": "_zDR2F-gwO_W",
        "colab_type": "code",
        "colab": {}
      },
      "source": [
        "import pandas as pd\n"
      ],
      "execution_count": 0,
      "outputs": []
    },
    {
      "cell_type": "code",
      "metadata": {
        "id": "xlLH3fOpzHh2",
        "colab_type": "code",
        "colab": {}
      },
      "source": [
        "df = pd.read_csv('/content/2009_census_data_roofing_materials (1).csv')\n"
      ],
      "execution_count": 0,
      "outputs": []
    },
    {
      "cell_type": "code",
      "metadata": {
        "id": "qi5hBUpgzaNe",
        "colab_type": "code",
        "outputId": "eb1d08ef-2e67-4255-96d4-e6f4e0fbce7a",
        "colab": {
          "base_uri": "https://localhost:8080/",
          "height": 394
        }
      },
      "source": [
        "#check first observation\n",
        "df.head()"
      ],
      "execution_count": 0,
      "outputs": [
        {
          "output_type": "execute_result",
          "data": {
            "text/html": [
              "<div>\n",
              "<style scoped>\n",
              "    .dataframe tbody tr th:only-of-type {\n",
              "        vertical-align: middle;\n",
              "    }\n",
              "\n",
              "    .dataframe tbody tr th {\n",
              "        vertical-align: top;\n",
              "    }\n",
              "\n",
              "    .dataframe thead th {\n",
              "        text-align: right;\n",
              "    }\n",
              "</style>\n",
              "<table border=\"1\" class=\"dataframe\">\n",
              "  <thead>\n",
              "    <tr style=\"text-align: right;\">\n",
              "      <th></th>\n",
              "      <th>District</th>\n",
              "      <th>rural/urban</th>\n",
              "      <th>%_of_Households_Corrugated_Iron_Sheets</th>\n",
              "      <th>%_of_Households_Tiles</th>\n",
              "      <th>%_of_Households_Concrete</th>\n",
              "      <th>Asbestos_%_of_Households_Sheets</th>\n",
              "      <th>%_of_Households_Grass</th>\n",
              "      <th>%_of_Households_Makuti</th>\n",
              "      <th>%_of_Households_Tin</th>\n",
              "      <th>%_of_Households_Mud/Dung</th>\n",
              "      <th>%_of_Households_Other</th>\n",
              "      <th>Households</th>\n",
              "      <th>No_Corrugated_Iron_Sheets</th>\n",
              "      <th>No_Tiles</th>\n",
              "      <th>No_Concrete</th>\n",
              "      <th>No_Asbestos_Sheets</th>\n",
              "      <th>No_Grass</th>\n",
              "      <th>No_Makuti</th>\n",
              "      <th>No_Tin</th>\n",
              "      <th>No_Mud/Dung</th>\n",
              "      <th>No_Other</th>\n",
              "      <th>County</th>\n",
              "      <th>MTEF</th>\n",
              "      <th>Location_1</th>\n",
              "      <th>Province</th>\n",
              "      <th>OBJECTID</th>\n",
              "    </tr>\n",
              "  </thead>\n",
              "  <tbody>\n",
              "    <tr>\n",
              "      <th>0</th>\n",
              "      <td>NYANDARUA NORTH</td>\n",
              "      <td>Urban</td>\n",
              "      <td>91.08%</td>\n",
              "      <td>0.62%</td>\n",
              "      <td>0.16%</td>\n",
              "      <td>1.46%</td>\n",
              "      <td>0.64%</td>\n",
              "      <td>0.03%</td>\n",
              "      <td>0.07%</td>\n",
              "      <td>0%</td>\n",
              "      <td>5.94%</td>\n",
              "      <td>23229</td>\n",
              "      <td>21156</td>\n",
              "      <td>144</td>\n",
              "      <td>38</td>\n",
              "      <td>338</td>\n",
              "      <td>148</td>\n",
              "      <td>7</td>\n",
              "      <td>17</td>\n",
              "      <td>1</td>\n",
              "      <td>1380</td>\n",
              "      <td>Nyandarua</td>\n",
              "      <td>Physical Infrastructure, Housing</td>\n",
              "      <td>NaN</td>\n",
              "      <td>CENTRAL</td>\n",
              "      <td>0</td>\n",
              "    </tr>\n",
              "    <tr>\n",
              "      <th>1</th>\n",
              "      <td>NYANDARUA SOUTH</td>\n",
              "      <td>Urban</td>\n",
              "      <td>95.38%</td>\n",
              "      <td>0.47%</td>\n",
              "      <td>2.6%</td>\n",
              "      <td>1.46%</td>\n",
              "      <td>0.06%</td>\n",
              "      <td>0%</td>\n",
              "      <td>0%</td>\n",
              "      <td>0.02%</td>\n",
              "      <td>0.02%</td>\n",
              "      <td>5345</td>\n",
              "      <td>5098</td>\n",
              "      <td>25</td>\n",
              "      <td>139</td>\n",
              "      <td>78</td>\n",
              "      <td>3</td>\n",
              "      <td>0</td>\n",
              "      <td>0</td>\n",
              "      <td>1</td>\n",
              "      <td>1</td>\n",
              "      <td>Nyandarua</td>\n",
              "      <td>Physical Infrastructure, Housing</td>\n",
              "      <td>NaN</td>\n",
              "      <td>CENTRAL</td>\n",
              "      <td>1</td>\n",
              "    </tr>\n",
              "    <tr>\n",
              "      <th>2</th>\n",
              "      <td>NYERI NORTH</td>\n",
              "      <td>Urban</td>\n",
              "      <td>90.28%</td>\n",
              "      <td>1.13%</td>\n",
              "      <td>5.21%</td>\n",
              "      <td>2.58%</td>\n",
              "      <td>0.49%</td>\n",
              "      <td>0.08%</td>\n",
              "      <td>0.2%</td>\n",
              "      <td>0.01%</td>\n",
              "      <td>0.01%</td>\n",
              "      <td>14208</td>\n",
              "      <td>12827</td>\n",
              "      <td>161</td>\n",
              "      <td>740</td>\n",
              "      <td>367</td>\n",
              "      <td>69</td>\n",
              "      <td>11</td>\n",
              "      <td>29</td>\n",
              "      <td>2</td>\n",
              "      <td>2</td>\n",
              "      <td>Nyeri</td>\n",
              "      <td>Physical Infrastructure, Housing</td>\n",
              "      <td>NaN</td>\n",
              "      <td>CENTRAL</td>\n",
              "      <td>2</td>\n",
              "    </tr>\n",
              "    <tr>\n",
              "      <th>3</th>\n",
              "      <td>NYERI SOUTH</td>\n",
              "      <td>Urban</td>\n",
              "      <td>90.89%</td>\n",
              "      <td>2.3%</td>\n",
              "      <td>3.32%</td>\n",
              "      <td>3.04%</td>\n",
              "      <td>0.09%</td>\n",
              "      <td>0.05%</td>\n",
              "      <td>0.14%</td>\n",
              "      <td>0.01%</td>\n",
              "      <td>0.17%</td>\n",
              "      <td>39927</td>\n",
              "      <td>36290</td>\n",
              "      <td>917</td>\n",
              "      <td>1325</td>\n",
              "      <td>1213</td>\n",
              "      <td>36</td>\n",
              "      <td>20</td>\n",
              "      <td>57</td>\n",
              "      <td>2</td>\n",
              "      <td>67</td>\n",
              "      <td>Nyeri</td>\n",
              "      <td>Physical Infrastructure, Housing</td>\n",
              "      <td>NaN</td>\n",
              "      <td>CENTRAL</td>\n",
              "      <td>3</td>\n",
              "    </tr>\n",
              "    <tr>\n",
              "      <th>4</th>\n",
              "      <td>KIRINYAGA</td>\n",
              "      <td>Urban</td>\n",
              "      <td>91.41%</td>\n",
              "      <td>0.87%</td>\n",
              "      <td>3.97%</td>\n",
              "      <td>3.5%</td>\n",
              "      <td>0.04%</td>\n",
              "      <td>0.01%</td>\n",
              "      <td>0.03%</td>\n",
              "      <td>0.01%</td>\n",
              "      <td>0.15%</td>\n",
              "      <td>27461</td>\n",
              "      <td>25103</td>\n",
              "      <td>239</td>\n",
              "      <td>1090</td>\n",
              "      <td>960</td>\n",
              "      <td>11</td>\n",
              "      <td>3</td>\n",
              "      <td>9</td>\n",
              "      <td>4</td>\n",
              "      <td>42</td>\n",
              "      <td>Kirinyaga</td>\n",
              "      <td>Physical Infrastructure, Housing</td>\n",
              "      <td>NaN</td>\n",
              "      <td>CENTRAL</td>\n",
              "      <td>4</td>\n",
              "    </tr>\n",
              "  </tbody>\n",
              "</table>\n",
              "</div>"
            ],
            "text/plain": [
              "          District rural/urban  ... Province OBJECTID\n",
              "0  NYANDARUA NORTH       Urban  ...  CENTRAL        0\n",
              "1  NYANDARUA SOUTH       Urban  ...  CENTRAL        1\n",
              "2      NYERI NORTH       Urban  ...  CENTRAL        2\n",
              "3      NYERI SOUTH       Urban  ...  CENTRAL        3\n",
              "4        KIRINYAGA       Urban  ...  CENTRAL        4\n",
              "\n",
              "[5 rows x 26 columns]"
            ]
          },
          "metadata": {
            "tags": []
          },
          "execution_count": 7
        }
      ]
    },
    {
      "cell_type": "code",
      "metadata": {
        "id": "pPdxvlO40Ugh",
        "colab_type": "code",
        "outputId": "d9c0a76c-932e-4736-b3f2-f83469e1ab30",
        "colab": {
          "base_uri": "https://localhost:8080/",
          "height": 394
        }
      },
      "source": [
        "#check the last observations\n",
        "df.tail()"
      ],
      "execution_count": 0,
      "outputs": [
        {
          "output_type": "execute_result",
          "data": {
            "text/html": [
              "<div>\n",
              "<style scoped>\n",
              "    .dataframe tbody tr th:only-of-type {\n",
              "        vertical-align: middle;\n",
              "    }\n",
              "\n",
              "    .dataframe tbody tr th {\n",
              "        vertical-align: top;\n",
              "    }\n",
              "\n",
              "    .dataframe thead th {\n",
              "        text-align: right;\n",
              "    }\n",
              "</style>\n",
              "<table border=\"1\" class=\"dataframe\">\n",
              "  <thead>\n",
              "    <tr style=\"text-align: right;\">\n",
              "      <th></th>\n",
              "      <th>District</th>\n",
              "      <th>rural/urban</th>\n",
              "      <th>%_of_Households_Corrugated_Iron_Sheets</th>\n",
              "      <th>%_of_Households_Tiles</th>\n",
              "      <th>%_of_Households_Concrete</th>\n",
              "      <th>Asbestos_%_of_Households_Sheets</th>\n",
              "      <th>%_of_Households_Grass</th>\n",
              "      <th>%_of_Households_Makuti</th>\n",
              "      <th>%_of_Households_Tin</th>\n",
              "      <th>%_of_Households_Mud/Dung</th>\n",
              "      <th>%_of_Households_Other</th>\n",
              "      <th>Households</th>\n",
              "      <th>No_Corrugated_Iron_Sheets</th>\n",
              "      <th>No_Tiles</th>\n",
              "      <th>No_Concrete</th>\n",
              "      <th>No_Asbestos_Sheets</th>\n",
              "      <th>No_Grass</th>\n",
              "      <th>No_Makuti</th>\n",
              "      <th>No_Tin</th>\n",
              "      <th>No_Mud/Dung</th>\n",
              "      <th>No_Other</th>\n",
              "      <th>County</th>\n",
              "      <th>MTEF</th>\n",
              "      <th>Location_1</th>\n",
              "      <th>Province</th>\n",
              "      <th>OBJECTID</th>\n",
              "    </tr>\n",
              "  </thead>\n",
              "  <tbody>\n",
              "    <tr>\n",
              "      <th>310</th>\n",
              "      <td>BUSIA</td>\n",
              "      <td>Rural</td>\n",
              "      <td>49.66%</td>\n",
              "      <td>0.46%</td>\n",
              "      <td>0.03%</td>\n",
              "      <td>2.15%</td>\n",
              "      <td>47.44%</td>\n",
              "      <td>0.08%</td>\n",
              "      <td>0.13%</td>\n",
              "      <td>0.03%</td>\n",
              "      <td>0.02%</td>\n",
              "      <td>58208</td>\n",
              "      <td>28909</td>\n",
              "      <td>265</td>\n",
              "      <td>20</td>\n",
              "      <td>1253</td>\n",
              "      <td>27611</td>\n",
              "      <td>48</td>\n",
              "      <td>78</td>\n",
              "      <td>15</td>\n",
              "      <td>9</td>\n",
              "      <td>Busia</td>\n",
              "      <td>Physical Infrastructure, Housing</td>\n",
              "      <td>NaN</td>\n",
              "      <td>WESTERN</td>\n",
              "      <td>310</td>\n",
              "    </tr>\n",
              "    <tr>\n",
              "      <th>311</th>\n",
              "      <td>TESO NORTH</td>\n",
              "      <td>Rural</td>\n",
              "      <td>29.2%</td>\n",
              "      <td>0.42%</td>\n",
              "      <td>0.03%</td>\n",
              "      <td>1.22%</td>\n",
              "      <td>69.07%</td>\n",
              "      <td>0.04%</td>\n",
              "      <td>0.01%</td>\n",
              "      <td>0.01%</td>\n",
              "      <td>0%</td>\n",
              "      <td>13490</td>\n",
              "      <td>3939</td>\n",
              "      <td>57</td>\n",
              "      <td>4</td>\n",
              "      <td>165</td>\n",
              "      <td>9317</td>\n",
              "      <td>5</td>\n",
              "      <td>1</td>\n",
              "      <td>2</td>\n",
              "      <td>0</td>\n",
              "      <td>Busia</td>\n",
              "      <td>Physical Infrastructure, Housing</td>\n",
              "      <td>NaN</td>\n",
              "      <td>WESTERN</td>\n",
              "      <td>311</td>\n",
              "    </tr>\n",
              "    <tr>\n",
              "      <th>312</th>\n",
              "      <td>SAMIA</td>\n",
              "      <td>Rural</td>\n",
              "      <td>52.69%</td>\n",
              "      <td>0.72%</td>\n",
              "      <td>0.05%</td>\n",
              "      <td>2.01%</td>\n",
              "      <td>44.16%</td>\n",
              "      <td>0.22%</td>\n",
              "      <td>0.02%</td>\n",
              "      <td>0.04%</td>\n",
              "      <td>0.08%</td>\n",
              "      <td>19385</td>\n",
              "      <td>10214</td>\n",
              "      <td>139</td>\n",
              "      <td>10</td>\n",
              "      <td>390</td>\n",
              "      <td>8561</td>\n",
              "      <td>43</td>\n",
              "      <td>4</td>\n",
              "      <td>8</td>\n",
              "      <td>16</td>\n",
              "      <td>Busia</td>\n",
              "      <td>Physical Infrastructure, Housing</td>\n",
              "      <td>NaN</td>\n",
              "      <td>WESTERN</td>\n",
              "      <td>312</td>\n",
              "    </tr>\n",
              "    <tr>\n",
              "      <th>313</th>\n",
              "      <td>BUNYALA</td>\n",
              "      <td>Rural</td>\n",
              "      <td>58.22%</td>\n",
              "      <td>0.5%</td>\n",
              "      <td>0.04%</td>\n",
              "      <td>1.63%</td>\n",
              "      <td>38.5%</td>\n",
              "      <td>0.15%</td>\n",
              "      <td>0.07%</td>\n",
              "      <td>0.01%</td>\n",
              "      <td>0.89%</td>\n",
              "      <td>13535</td>\n",
              "      <td>7880</td>\n",
              "      <td>67</td>\n",
              "      <td>5</td>\n",
              "      <td>221</td>\n",
              "      <td>5211</td>\n",
              "      <td>20</td>\n",
              "      <td>9</td>\n",
              "      <td>2</td>\n",
              "      <td>120</td>\n",
              "      <td>Busia</td>\n",
              "      <td>Physical Infrastructure, Housing</td>\n",
              "      <td>NaN</td>\n",
              "      <td>WESTERN</td>\n",
              "      <td>313</td>\n",
              "    </tr>\n",
              "    <tr>\n",
              "      <th>314</th>\n",
              "      <td>TESO SOUTH</td>\n",
              "      <td>Rural</td>\n",
              "      <td>25.44%</td>\n",
              "      <td>0.36%</td>\n",
              "      <td>0.03%</td>\n",
              "      <td>0.66%</td>\n",
              "      <td>73.39%</td>\n",
              "      <td>0.07%</td>\n",
              "      <td>0.02%</td>\n",
              "      <td>0.01%</td>\n",
              "      <td>0.02%</td>\n",
              "      <td>21344</td>\n",
              "      <td>5429</td>\n",
              "      <td>77</td>\n",
              "      <td>6</td>\n",
              "      <td>141</td>\n",
              "      <td>15664</td>\n",
              "      <td>16</td>\n",
              "      <td>4</td>\n",
              "      <td>3</td>\n",
              "      <td>4</td>\n",
              "      <td>Busia</td>\n",
              "      <td>Physical Infrastructure, Housing</td>\n",
              "      <td>NaN</td>\n",
              "      <td>WESTERN</td>\n",
              "      <td>314</td>\n",
              "    </tr>\n",
              "  </tbody>\n",
              "</table>\n",
              "</div>"
            ],
            "text/plain": [
              "       District rural/urban  ... Province OBJECTID\n",
              "310       BUSIA       Rural  ...  WESTERN      310\n",
              "311  TESO NORTH       Rural  ...  WESTERN      311\n",
              "312       SAMIA       Rural  ...  WESTERN      312\n",
              "313     BUNYALA       Rural  ...  WESTERN      313\n",
              "314  TESO SOUTH       Rural  ...  WESTERN      314\n",
              "\n",
              "[5 rows x 26 columns]"
            ]
          },
          "metadata": {
            "tags": []
          },
          "execution_count": 8
        }
      ]
    },
    {
      "cell_type": "code",
      "metadata": {
        "id": "GCarKKjN1KzC",
        "colab_type": "code",
        "outputId": "b1ebfb7f-c8fa-430b-8345-3b9ac72e7d91",
        "colab": {
          "base_uri": "https://localhost:8080/",
          "height": 170
        }
      },
      "source": [
        "#column names\n",
        "df.columns"
      ],
      "execution_count": 0,
      "outputs": [
        {
          "output_type": "execute_result",
          "data": {
            "text/plain": [
              "Index(['District', 'rural/urban', '%_of_Households_Corrugated_Iron_Sheets',\n",
              "       '%_of_Households_Tiles', '%_of_Households_Concrete',\n",
              "       'Asbestos_%_of_Households_Sheets', '%_of_Households_Grass',\n",
              "       '%_of_Households_Makuti', '%_of_Households_Tin',\n",
              "       '%_of_Households_Mud/Dung', '%_of_Households_Other', 'Households',\n",
              "       'No_Corrugated_Iron_Sheets', 'No_Tiles', 'No_Concrete',\n",
              "       'No_Asbestos_Sheets', 'No_Grass', 'No_Makuti', 'No_Tin', 'No_Mud/Dung',\n",
              "       'No_Other', 'County', 'MTEF', 'Location_1', 'Province', 'OBJECTID'],\n",
              "      dtype='object')"
            ]
          },
          "metadata": {
            "tags": []
          },
          "execution_count": 10
        }
      ]
    },
    {
      "cell_type": "code",
      "metadata": {
        "id": "k0OqxCQi1Rrg",
        "colab_type": "code",
        "outputId": "ed718ddd-b771-4e22-86e2-0d59aff4f261",
        "colab": {
          "base_uri": "https://localhost:8080/",
          "height": 134
        }
      },
      "source": [
        "df.iloc[200:201, :]"
      ],
      "execution_count": 0,
      "outputs": [
        {
          "output_type": "execute_result",
          "data": {
            "text/html": [
              "<div>\n",
              "<style scoped>\n",
              "    .dataframe tbody tr th:only-of-type {\n",
              "        vertical-align: middle;\n",
              "    }\n",
              "\n",
              "    .dataframe tbody tr th {\n",
              "        vertical-align: top;\n",
              "    }\n",
              "\n",
              "    .dataframe thead th {\n",
              "        text-align: right;\n",
              "    }\n",
              "</style>\n",
              "<table border=\"1\" class=\"dataframe\">\n",
              "  <thead>\n",
              "    <tr style=\"text-align: right;\">\n",
              "      <th></th>\n",
              "      <th>District</th>\n",
              "      <th>rural/urban</th>\n",
              "      <th>%_of_Households_Corrugated_Iron_Sheets</th>\n",
              "      <th>%_of_Households_Tiles</th>\n",
              "      <th>%_of_Households_Concrete</th>\n",
              "      <th>Asbestos_%_of_Households_Sheets</th>\n",
              "      <th>%_of_Households_Grass</th>\n",
              "      <th>%_of_Households_Makuti</th>\n",
              "      <th>%_of_Households_Tin</th>\n",
              "      <th>%_of_Households_Mud/Dung</th>\n",
              "      <th>%_of_Households_Other</th>\n",
              "      <th>Households</th>\n",
              "      <th>No_Corrugated_Iron_Sheets</th>\n",
              "      <th>No_Tiles</th>\n",
              "      <th>No_Concrete</th>\n",
              "      <th>No_Asbestos_Sheets</th>\n",
              "      <th>No_Grass</th>\n",
              "      <th>No_Makuti</th>\n",
              "      <th>No_Tin</th>\n",
              "      <th>No_Mud/Dung</th>\n",
              "      <th>No_Other</th>\n",
              "      <th>County</th>\n",
              "      <th>MTEF</th>\n",
              "      <th>Location_1</th>\n",
              "      <th>Province</th>\n",
              "      <th>OBJECTID</th>\n",
              "    </tr>\n",
              "  </thead>\n",
              "  <tbody>\n",
              "    <tr>\n",
              "      <th>200</th>\n",
              "      <td>BARINGO NORTH</td>\n",
              "      <td>Urban</td>\n",
              "      <td>NaN</td>\n",
              "      <td>NaN</td>\n",
              "      <td>NaN</td>\n",
              "      <td>NaN</td>\n",
              "      <td>NaN</td>\n",
              "      <td>NaN</td>\n",
              "      <td>NaN</td>\n",
              "      <td>NaN</td>\n",
              "      <td>NaN</td>\n",
              "      <td>0</td>\n",
              "      <td>0</td>\n",
              "      <td>0</td>\n",
              "      <td>0</td>\n",
              "      <td>0</td>\n",
              "      <td>0</td>\n",
              "      <td>0</td>\n",
              "      <td>0</td>\n",
              "      <td>0</td>\n",
              "      <td>0</td>\n",
              "      <td>Baringo</td>\n",
              "      <td>Physical Infrastructure, Housing</td>\n",
              "      <td>NaN</td>\n",
              "      <td>RIFT VALLEY</td>\n",
              "      <td>200</td>\n",
              "    </tr>\n",
              "  </tbody>\n",
              "</table>\n",
              "</div>"
            ],
            "text/plain": [
              "          District rural/urban  ...     Province OBJECTID\n",
              "200  BARINGO NORTH       Urban  ...  RIFT VALLEY      200\n",
              "\n",
              "[1 rows x 26 columns]"
            ]
          },
          "metadata": {
            "tags": []
          },
          "execution_count": 11
        }
      ]
    },
    {
      "cell_type": "code",
      "metadata": {
        "id": "HTLp9QSn2X5w",
        "colab_type": "code",
        "outputId": "e43302c4-057f-479c-fc19-f6778015b2e0",
        "colab": {
          "base_uri": "https://localhost:8080/",
          "height": 134
        }
      },
      "source": [
        "df.iloc[100:101, :]"
      ],
      "execution_count": 0,
      "outputs": [
        {
          "output_type": "execute_result",
          "data": {
            "text/html": [
              "<div>\n",
              "<style scoped>\n",
              "    .dataframe tbody tr th:only-of-type {\n",
              "        vertical-align: middle;\n",
              "    }\n",
              "\n",
              "    .dataframe tbody tr th {\n",
              "        vertical-align: top;\n",
              "    }\n",
              "\n",
              "    .dataframe thead th {\n",
              "        text-align: right;\n",
              "    }\n",
              "</style>\n",
              "<table border=\"1\" class=\"dataframe\">\n",
              "  <thead>\n",
              "    <tr style=\"text-align: right;\">\n",
              "      <th></th>\n",
              "      <th>District</th>\n",
              "      <th>rural/urban</th>\n",
              "      <th>%_of_Households_Corrugated_Iron_Sheets</th>\n",
              "      <th>%_of_Households_Tiles</th>\n",
              "      <th>%_of_Households_Concrete</th>\n",
              "      <th>Asbestos_%_of_Households_Sheets</th>\n",
              "      <th>%_of_Households_Grass</th>\n",
              "      <th>%_of_Households_Makuti</th>\n",
              "      <th>%_of_Households_Tin</th>\n",
              "      <th>%_of_Households_Mud/Dung</th>\n",
              "      <th>%_of_Households_Other</th>\n",
              "      <th>Households</th>\n",
              "      <th>No_Corrugated_Iron_Sheets</th>\n",
              "      <th>No_Tiles</th>\n",
              "      <th>No_Concrete</th>\n",
              "      <th>No_Asbestos_Sheets</th>\n",
              "      <th>No_Grass</th>\n",
              "      <th>No_Makuti</th>\n",
              "      <th>No_Tin</th>\n",
              "      <th>No_Mud/Dung</th>\n",
              "      <th>No_Other</th>\n",
              "      <th>County</th>\n",
              "      <th>MTEF</th>\n",
              "      <th>Location_1</th>\n",
              "      <th>Province</th>\n",
              "      <th>OBJECTID</th>\n",
              "    </tr>\n",
              "  </thead>\n",
              "  <tbody>\n",
              "    <tr>\n",
              "      <th>100</th>\n",
              "      <td>TIGANIA</td>\n",
              "      <td>Rural</td>\n",
              "      <td>88.91%</td>\n",
              "      <td>0.85%</td>\n",
              "      <td>0.03%</td>\n",
              "      <td>3.22%</td>\n",
              "      <td>5.9%</td>\n",
              "      <td>0.6%</td>\n",
              "      <td>0.25%</td>\n",
              "      <td>0.08%</td>\n",
              "      <td>0.17%</td>\n",
              "      <td>61654</td>\n",
              "      <td>54817</td>\n",
              "      <td>524</td>\n",
              "      <td>18</td>\n",
              "      <td>1986</td>\n",
              "      <td>3635</td>\n",
              "      <td>370</td>\n",
              "      <td>153</td>\n",
              "      <td>47</td>\n",
              "      <td>104</td>\n",
              "      <td>Meru</td>\n",
              "      <td>Physical Infrastructure, Housing</td>\n",
              "      <td>NaN</td>\n",
              "      <td>EASTERN</td>\n",
              "      <td>100</td>\n",
              "    </tr>\n",
              "  </tbody>\n",
              "</table>\n",
              "</div>"
            ],
            "text/plain": [
              "    District rural/urban  ... Province OBJECTID\n",
              "100  TIGANIA       Rural  ...  EASTERN      100\n",
              "\n",
              "[1 rows x 26 columns]"
            ]
          },
          "metadata": {
            "tags": []
          },
          "execution_count": 13
        }
      ]
    },
    {
      "cell_type": "code",
      "metadata": {
        "id": "Tzg6b__s2dhy",
        "colab_type": "code",
        "outputId": "3a30c819-1c9c-4b16-c455-3c3c2040a694",
        "colab": {
          "base_uri": "https://localhost:8080/",
          "height": 142
        }
      },
      "source": [
        "#rows and column in order,check on slicing\n",
        "df.iloc[100:103, :4]"
      ],
      "execution_count": 0,
      "outputs": [
        {
          "output_type": "execute_result",
          "data": {
            "text/html": [
              "<div>\n",
              "<style scoped>\n",
              "    .dataframe tbody tr th:only-of-type {\n",
              "        vertical-align: middle;\n",
              "    }\n",
              "\n",
              "    .dataframe tbody tr th {\n",
              "        vertical-align: top;\n",
              "    }\n",
              "\n",
              "    .dataframe thead th {\n",
              "        text-align: right;\n",
              "    }\n",
              "</style>\n",
              "<table border=\"1\" class=\"dataframe\">\n",
              "  <thead>\n",
              "    <tr style=\"text-align: right;\">\n",
              "      <th></th>\n",
              "      <th>District</th>\n",
              "      <th>rural/urban</th>\n",
              "      <th>%_of_Households_Corrugated_Iron_Sheets</th>\n",
              "      <th>%_of_Households_Tiles</th>\n",
              "    </tr>\n",
              "  </thead>\n",
              "  <tbody>\n",
              "    <tr>\n",
              "      <th>100</th>\n",
              "      <td>TIGANIA</td>\n",
              "      <td>Rural</td>\n",
              "      <td>88.91%</td>\n",
              "      <td>0.85%</td>\n",
              "    </tr>\n",
              "    <tr>\n",
              "      <th>101</th>\n",
              "      <td>THARAKA</td>\n",
              "      <td>Rural</td>\n",
              "      <td>77.9%</td>\n",
              "      <td>0.56%</td>\n",
              "    </tr>\n",
              "    <tr>\n",
              "      <th>102</th>\n",
              "      <td>EMBU</td>\n",
              "      <td>Rural</td>\n",
              "      <td>96.09%</td>\n",
              "      <td>0.74%</td>\n",
              "    </tr>\n",
              "  </tbody>\n",
              "</table>\n",
              "</div>"
            ],
            "text/plain": [
              "    District  ... %_of_Households_Tiles\n",
              "100  TIGANIA  ...                 0.85%\n",
              "101  THARAKA  ...                 0.56%\n",
              "102     EMBU  ...                 0.74%\n",
              "\n",
              "[3 rows x 4 columns]"
            ]
          },
          "metadata": {
            "tags": []
          },
          "execution_count": 17
        }
      ]
    },
    {
      "cell_type": "code",
      "metadata": {
        "id": "kRNqwBkO2sGZ",
        "colab_type": "code",
        "outputId": "03a0ea58-8031-4ff4-8a7c-034e552ad477",
        "colab": {
          "base_uri": "https://localhost:8080/",
          "height": 204
        }
      },
      "source": [
        "#first five rows\n",
        "df.iloc[:,5:6].head()"
      ],
      "execution_count": 0,
      "outputs": [
        {
          "output_type": "execute_result",
          "data": {
            "text/html": [
              "<div>\n",
              "<style scoped>\n",
              "    .dataframe tbody tr th:only-of-type {\n",
              "        vertical-align: middle;\n",
              "    }\n",
              "\n",
              "    .dataframe tbody tr th {\n",
              "        vertical-align: top;\n",
              "    }\n",
              "\n",
              "    .dataframe thead th {\n",
              "        text-align: right;\n",
              "    }\n",
              "</style>\n",
              "<table border=\"1\" class=\"dataframe\">\n",
              "  <thead>\n",
              "    <tr style=\"text-align: right;\">\n",
              "      <th></th>\n",
              "      <th>Asbestos_%_of_Households_Sheets</th>\n",
              "    </tr>\n",
              "  </thead>\n",
              "  <tbody>\n",
              "    <tr>\n",
              "      <th>0</th>\n",
              "      <td>1.46%</td>\n",
              "    </tr>\n",
              "    <tr>\n",
              "      <th>1</th>\n",
              "      <td>1.46%</td>\n",
              "    </tr>\n",
              "    <tr>\n",
              "      <th>2</th>\n",
              "      <td>2.58%</td>\n",
              "    </tr>\n",
              "    <tr>\n",
              "      <th>3</th>\n",
              "      <td>3.04%</td>\n",
              "    </tr>\n",
              "    <tr>\n",
              "      <th>4</th>\n",
              "      <td>3.5%</td>\n",
              "    </tr>\n",
              "  </tbody>\n",
              "</table>\n",
              "</div>"
            ],
            "text/plain": [
              "  Asbestos_%_of_Households_Sheets\n",
              "0                           1.46%\n",
              "1                           1.46%\n",
              "2                           2.58%\n",
              "3                           3.04%\n",
              "4                            3.5%"
            ]
          },
          "metadata": {
            "tags": []
          },
          "execution_count": 19
        }
      ]
    },
    {
      "cell_type": "code",
      "metadata": {
        "id": "uLi7At5i3R37",
        "colab_type": "code",
        "outputId": "e7c33f93-481a-424e-9d9e-3551cf1ca0d4",
        "colab": {
          "base_uri": "https://localhost:8080/",
          "height": 544
        }
      },
      "source": [
        "#summary dataset information\n",
        "df.info()"
      ],
      "execution_count": 0,
      "outputs": [
        {
          "output_type": "stream",
          "text": [
            "<class 'pandas.core.frame.DataFrame'>\n",
            "RangeIndex: 315 entries, 0 to 314\n",
            "Data columns (total 26 columns):\n",
            "District                                  315 non-null object\n",
            "rural/urban                               315 non-null object\n",
            "%_of_Households_Corrugated_Iron_Sheets    290 non-null object\n",
            "%_of_Households_Tiles                     290 non-null object\n",
            "%_of_Households_Concrete                  290 non-null object\n",
            "Asbestos_%_of_Households_Sheets           290 non-null object\n",
            "%_of_Households_Grass                     290 non-null object\n",
            "%_of_Households_Makuti                    290 non-null object\n",
            "%_of_Households_Tin                       290 non-null object\n",
            "%_of_Households_Mud/Dung                  290 non-null object\n",
            "%_of_Households_Other                     290 non-null object\n",
            "Households                                315 non-null int64\n",
            "No_Corrugated_Iron_Sheets                 315 non-null int64\n",
            "No_Tiles                                  315 non-null int64\n",
            "No_Concrete                               315 non-null int64\n",
            "No_Asbestos_Sheets                        315 non-null int64\n",
            "No_Grass                                  315 non-null int64\n",
            "No_Makuti                                 315 non-null int64\n",
            "No_Tin                                    315 non-null int64\n",
            "No_Mud/Dung                               315 non-null int64\n",
            "No_Other                                  315 non-null int64\n",
            "County                                    315 non-null object\n",
            "MTEF                                      315 non-null object\n",
            "Location_1                                0 non-null float64\n",
            "Province                                  315 non-null object\n",
            "OBJECTID                                  315 non-null int64\n",
            "dtypes: float64(1), int64(11), object(14)\n",
            "memory usage: 64.1+ KB\n"
          ],
          "name": "stdout"
        }
      ]
    },
    {
      "cell_type": "code",
      "metadata": {
        "id": "ykQVyFwu33FA",
        "colab_type": "code",
        "outputId": "b3dba900-9f6a-4a68-de62-fdf4fd190235",
        "colab": {
          "base_uri": "https://localhost:8080/",
          "height": 476
        }
      },
      "source": [
        "#check for datatypes\n",
        "df.dtypes"
      ],
      "execution_count": 0,
      "outputs": [
        {
          "output_type": "execute_result",
          "data": {
            "text/plain": [
              "District                                   object\n",
              "rural/urban                                object\n",
              "%_of_Households_Corrugated_Iron_Sheets     object\n",
              "%_of_Households_Tiles                      object\n",
              "%_of_Households_Concrete                   object\n",
              "Asbestos_%_of_Households_Sheets            object\n",
              "%_of_Households_Grass                      object\n",
              "%_of_Households_Makuti                     object\n",
              "%_of_Households_Tin                        object\n",
              "%_of_Households_Mud/Dung                   object\n",
              "%_of_Households_Other                      object\n",
              "Households                                  int64\n",
              "No_Corrugated_Iron_Sheets                   int64\n",
              "No_Tiles                                    int64\n",
              "No_Concrete                                 int64\n",
              "No_Asbestos_Sheets                          int64\n",
              "No_Grass                                    int64\n",
              "No_Makuti                                   int64\n",
              "No_Tin                                      int64\n",
              "No_Mud/Dung                                 int64\n",
              "No_Other                                    int64\n",
              "County                                     object\n",
              "MTEF                                       object\n",
              "Location_1                                float64\n",
              "Province                                   object\n",
              "OBJECTID                                    int64\n",
              "dtype: object"
            ]
          },
          "metadata": {
            "tags": []
          },
          "execution_count": 21
        }
      ]
    },
    {
      "cell_type": "code",
      "metadata": {
        "id": "lDVBcIVM4_1T",
        "colab_type": "code",
        "outputId": "f8103abc-2bef-48be-e465-a9cde10a0e14",
        "colab": {
          "base_uri": "https://localhost:8080/",
          "height": 170
        }
      },
      "source": [
        "df.County.unique()\n"
      ],
      "execution_count": 0,
      "outputs": [
        {
          "output_type": "execute_result",
          "data": {
            "text/plain": [
              "array(['Nyandarua', 'Nyeri', 'Kirinyaga', \"Murang'a\", 'Kiambu', 'Mombasa',\n",
              "       'Kwale ', 'Kilifi', 'Tana River', 'Lamu', 'Taita Taveta',\n",
              "       'Marsabit', 'Isiolo', 'Meru', 'Tharaka Nithi', 'Embu', 'Kitui',\n",
              "       'Machakos', 'Makueni', 'Nairobi', 'Garissa', 'Wajir', 'Mandera',\n",
              "       'Siaya', 'Kisumu', 'Homa Bay', 'Migori', 'Kisii', 'Nyamira',\n",
              "       'Turkana', 'West Pokot', 'Samburu', 'Trans Nzoia', 'Baringo',\n",
              "       'Uasin Gishu', 'Elgeyo Marakwet', 'Nandi', 'Laikipia', 'Nakuru',\n",
              "       'Narok', 'Kajiado', 'Kericho', 'Bomet', 'Kakamega', 'Vihiga',\n",
              "       'Bungoma', 'Busia'], dtype=object)"
            ]
          },
          "metadata": {
            "tags": []
          },
          "execution_count": 27
        }
      ]
    },
    {
      "cell_type": "code",
      "metadata": {
        "id": "Hj8B9Bqz50Ln",
        "colab_type": "code",
        "outputId": "c67a0e63-4ee3-4042-b2f6-15053459c9c8",
        "colab": {
          "base_uri": "https://localhost:8080/",
          "height": 34
        }
      },
      "source": [
        "\n",
        "\n",
        "df.Province.unique()\n",
        "df.Province.nunique()"
      ],
      "execution_count": 0,
      "outputs": [
        {
          "output_type": "execute_result",
          "data": {
            "text/plain": [
              "8"
            ]
          },
          "metadata": {
            "tags": []
          },
          "execution_count": 25
        }
      ]
    },
    {
      "cell_type": "code",
      "metadata": {
        "id": "XP9ADhiC57Fl",
        "colab_type": "code",
        "outputId": "d12c09d7-6612-48b0-e0d2-a9d88427beb4",
        "colab": {
          "base_uri": "https://localhost:8080/",
          "height": 34
        }
      },
      "source": [
        "df['County'].unique()\n",
        "df['rural/urban'].nunique()"
      ],
      "execution_count": 0,
      "outputs": [
        {
          "output_type": "execute_result",
          "data": {
            "text/plain": [
              "2"
            ]
          },
          "metadata": {
            "tags": []
          },
          "execution_count": 26
        }
      ]
    },
    {
      "cell_type": "code",
      "metadata": {
        "id": "2v04_s5N6X1t",
        "colab_type": "code",
        "outputId": "32b5581f-a9f9-4094-ae6c-6c74874c86ec",
        "colab": {
          "base_uri": "https://localhost:8080/",
          "height": 391
        }
      },
      "source": [
        "col=['County','Province','rural/urban']\n",
        "for c in col:\n",
        "  print(c)\n",
        "  print(df[c].unique())\n",
        "  print(df[c].nunique())\n",
        "  print('\\n')"
      ],
      "execution_count": 0,
      "outputs": [
        {
          "output_type": "stream",
          "text": [
            "County\n",
            "['Nyandarua' 'Nyeri' 'Kirinyaga' \"Murang'a\" 'Kiambu' 'Mombasa' 'Kwale '\n",
            " 'Kilifi' 'Tana River' 'Lamu' 'Taita Taveta' 'Marsabit' 'Isiolo' 'Meru'\n",
            " 'Tharaka Nithi' 'Embu' 'Kitui' 'Machakos' 'Makueni' 'Nairobi' 'Garissa'\n",
            " 'Wajir' 'Mandera' 'Siaya' 'Kisumu' 'Homa Bay' 'Migori' 'Kisii' 'Nyamira'\n",
            " 'Turkana' 'West Pokot' 'Samburu' 'Trans Nzoia' 'Baringo' 'Uasin Gishu'\n",
            " 'Elgeyo Marakwet' 'Nandi' 'Laikipia' 'Nakuru' 'Narok' 'Kajiado' 'Kericho'\n",
            " 'Bomet' 'Kakamega' 'Vihiga' 'Bungoma' 'Busia']\n",
            "47\n",
            "\n",
            "\n",
            "Province\n",
            "['CENTRAL' 'COAST' 'EASTERN' 'NAIROBI' 'NORTH EASTERN' 'NYANZA'\n",
            " 'RIFT VALLEY' 'WESTERN']\n",
            "8\n",
            "\n",
            "\n",
            "rural/urban\n",
            "['Urban' 'Rural']\n",
            "2\n",
            "\n",
            "\n"
          ],
          "name": "stdout"
        }
      ]
    },
    {
      "cell_type": "code",
      "metadata": {
        "id": "vj21rDs38SI3",
        "colab_type": "code",
        "outputId": "9b75ee90-117d-48f5-93b4-467b83921f89",
        "colab": {
          "base_uri": "https://localhost:8080/",
          "height": 317
        }
      },
      "source": [
        "df.describe()"
      ],
      "execution_count": 0,
      "outputs": [
        {
          "output_type": "execute_result",
          "data": {
            "text/html": [
              "<div>\n",
              "<style scoped>\n",
              "    .dataframe tbody tr th:only-of-type {\n",
              "        vertical-align: middle;\n",
              "    }\n",
              "\n",
              "    .dataframe tbody tr th {\n",
              "        vertical-align: top;\n",
              "    }\n",
              "\n",
              "    .dataframe thead th {\n",
              "        text-align: right;\n",
              "    }\n",
              "</style>\n",
              "<table border=\"1\" class=\"dataframe\">\n",
              "  <thead>\n",
              "    <tr style=\"text-align: right;\">\n",
              "      <th></th>\n",
              "      <th>Households</th>\n",
              "      <th>No_Corrugated_Iron_Sheets</th>\n",
              "      <th>No_Tiles</th>\n",
              "      <th>No_Concrete</th>\n",
              "      <th>No_Asbestos_Sheets</th>\n",
              "      <th>No_Grass</th>\n",
              "      <th>No_Makuti</th>\n",
              "      <th>No_Tin</th>\n",
              "      <th>No_Mud/Dung</th>\n",
              "      <th>No_Other</th>\n",
              "      <th>Location_1</th>\n",
              "      <th>OBJECTID</th>\n",
              "    </tr>\n",
              "  </thead>\n",
              "  <tbody>\n",
              "    <tr>\n",
              "      <th>count</th>\n",
              "      <td>315.000000</td>\n",
              "      <td>315.000000</td>\n",
              "      <td>315.000000</td>\n",
              "      <td>315.000000</td>\n",
              "      <td>315.000000</td>\n",
              "      <td>315.000000</td>\n",
              "      <td>315.000000</td>\n",
              "      <td>315.000000</td>\n",
              "      <td>315.000000</td>\n",
              "      <td>315.000000</td>\n",
              "      <td>0.0</td>\n",
              "      <td>315.000000</td>\n",
              "    </tr>\n",
              "    <tr>\n",
              "      <th>mean</th>\n",
              "      <td>27739.990476</td>\n",
              "      <td>20313.085714</td>\n",
              "      <td>615.212698</td>\n",
              "      <td>988.504762</td>\n",
              "      <td>626.085714</td>\n",
              "      <td>3791.142857</td>\n",
              "      <td>898.860317</td>\n",
              "      <td>79.857143</td>\n",
              "      <td>221.317460</td>\n",
              "      <td>205.923810</td>\n",
              "      <td>NaN</td>\n",
              "      <td>157.000000</td>\n",
              "    </tr>\n",
              "    <tr>\n",
              "      <th>std</th>\n",
              "      <td>36936.013962</td>\n",
              "      <td>27522.195495</td>\n",
              "      <td>2768.136884</td>\n",
              "      <td>7514.353880</td>\n",
              "      <td>1173.119447</td>\n",
              "      <td>6472.772229</td>\n",
              "      <td>3537.392935</td>\n",
              "      <td>187.095505</td>\n",
              "      <td>1322.869657</td>\n",
              "      <td>917.396302</td>\n",
              "      <td>NaN</td>\n",
              "      <td>91.076891</td>\n",
              "    </tr>\n",
              "    <tr>\n",
              "      <th>min</th>\n",
              "      <td>0.000000</td>\n",
              "      <td>0.000000</td>\n",
              "      <td>0.000000</td>\n",
              "      <td>0.000000</td>\n",
              "      <td>0.000000</td>\n",
              "      <td>0.000000</td>\n",
              "      <td>0.000000</td>\n",
              "      <td>0.000000</td>\n",
              "      <td>0.000000</td>\n",
              "      <td>0.000000</td>\n",
              "      <td>NaN</td>\n",
              "      <td>0.000000</td>\n",
              "    </tr>\n",
              "    <tr>\n",
              "      <th>25%</th>\n",
              "      <td>6122.500000</td>\n",
              "      <td>2249.500000</td>\n",
              "      <td>33.500000</td>\n",
              "      <td>6.000000</td>\n",
              "      <td>76.000000</td>\n",
              "      <td>41.000000</td>\n",
              "      <td>6.500000</td>\n",
              "      <td>5.000000</td>\n",
              "      <td>1.500000</td>\n",
              "      <td>1.000000</td>\n",
              "      <td>NaN</td>\n",
              "      <td>78.500000</td>\n",
              "    </tr>\n",
              "    <tr>\n",
              "      <th>50%</th>\n",
              "      <td>19729.000000</td>\n",
              "      <td>12196.000000</td>\n",
              "      <td>141.000000</td>\n",
              "      <td>20.000000</td>\n",
              "      <td>315.000000</td>\n",
              "      <td>713.000000</td>\n",
              "      <td>29.000000</td>\n",
              "      <td>17.000000</td>\n",
              "      <td>9.000000</td>\n",
              "      <td>10.000000</td>\n",
              "      <td>NaN</td>\n",
              "      <td>157.000000</td>\n",
              "    </tr>\n",
              "    <tr>\n",
              "      <th>75%</th>\n",
              "      <td>35903.500000</td>\n",
              "      <td>28711.500000</td>\n",
              "      <td>312.000000</td>\n",
              "      <td>68.500000</td>\n",
              "      <td>737.000000</td>\n",
              "      <td>4636.000000</td>\n",
              "      <td>105.500000</td>\n",
              "      <td>75.000000</td>\n",
              "      <td>24.500000</td>\n",
              "      <td>66.500000</td>\n",
              "      <td>NaN</td>\n",
              "      <td>235.500000</td>\n",
              "    </tr>\n",
              "    <tr>\n",
              "      <th>max</th>\n",
              "      <td>369265.000000</td>\n",
              "      <td>234774.000000</td>\n",
              "      <td>29909.000000</td>\n",
              "      <td>95455.000000</td>\n",
              "      <td>13229.000000</td>\n",
              "      <td>47962.000000</td>\n",
              "      <td>34905.000000</td>\n",
              "      <td>1758.000000</td>\n",
              "      <td>15211.000000</td>\n",
              "      <td>11390.000000</td>\n",
              "      <td>NaN</td>\n",
              "      <td>314.000000</td>\n",
              "    </tr>\n",
              "  </tbody>\n",
              "</table>\n",
              "</div>"
            ],
            "text/plain": [
              "          Households  No_Corrugated_Iron_Sheets  ...  Location_1    OBJECTID\n",
              "count     315.000000                 315.000000  ...         0.0  315.000000\n",
              "mean    27739.990476               20313.085714  ...         NaN  157.000000\n",
              "std     36936.013962               27522.195495  ...         NaN   91.076891\n",
              "min         0.000000                   0.000000  ...         NaN    0.000000\n",
              "25%      6122.500000                2249.500000  ...         NaN   78.500000\n",
              "50%     19729.000000               12196.000000  ...         NaN  157.000000\n",
              "75%     35903.500000               28711.500000  ...         NaN  235.500000\n",
              "max    369265.000000              234774.000000  ...         NaN  314.000000\n",
              "\n",
              "[8 rows x 12 columns]"
            ]
          },
          "metadata": {
            "tags": []
          },
          "execution_count": 31
        }
      ]
    },
    {
      "cell_type": "code",
      "metadata": {
        "id": "BTTU0FLr_Pn_",
        "colab_type": "code",
        "outputId": "3180bcca-bdf4-432c-8a06-75802c4c46d7",
        "colab": {
          "base_uri": "https://localhost:8080/",
          "height": 199
        }
      },
      "source": [
        "df.head(2)"
      ],
      "execution_count": 0,
      "outputs": [
        {
          "output_type": "execute_result",
          "data": {
            "text/html": [
              "<div>\n",
              "<style scoped>\n",
              "    .dataframe tbody tr th:only-of-type {\n",
              "        vertical-align: middle;\n",
              "    }\n",
              "\n",
              "    .dataframe tbody tr th {\n",
              "        vertical-align: top;\n",
              "    }\n",
              "\n",
              "    .dataframe thead th {\n",
              "        text-align: right;\n",
              "    }\n",
              "</style>\n",
              "<table border=\"1\" class=\"dataframe\">\n",
              "  <thead>\n",
              "    <tr style=\"text-align: right;\">\n",
              "      <th></th>\n",
              "      <th>District</th>\n",
              "      <th>rural/urban</th>\n",
              "      <th>%_of_Households_Corrugated_Iron_Sheets</th>\n",
              "      <th>%_of_Households_Tiles</th>\n",
              "      <th>%_of_Households_Concrete</th>\n",
              "      <th>Asbestos_%_of_Households_Sheets</th>\n",
              "      <th>%_of_Households_Grass</th>\n",
              "      <th>%_of_Households_Makuti</th>\n",
              "      <th>%_of_Households_Tin</th>\n",
              "      <th>%_of_Households_Mud/Dung</th>\n",
              "      <th>%_of_Households_Other</th>\n",
              "      <th>Households</th>\n",
              "      <th>No_Corrugated_Iron_Sheets</th>\n",
              "      <th>No_Tiles</th>\n",
              "      <th>No_Concrete</th>\n",
              "      <th>No_Asbestos_Sheets</th>\n",
              "      <th>No_Grass</th>\n",
              "      <th>No_Makuti</th>\n",
              "      <th>No_Tin</th>\n",
              "      <th>No_Mud/Dung</th>\n",
              "      <th>No_Other</th>\n",
              "      <th>County</th>\n",
              "      <th>MTEF</th>\n",
              "      <th>Location_1</th>\n",
              "      <th>Province</th>\n",
              "      <th>OBJECTID</th>\n",
              "    </tr>\n",
              "  </thead>\n",
              "  <tbody>\n",
              "    <tr>\n",
              "      <th>0</th>\n",
              "      <td>NYANDARUA NORTH</td>\n",
              "      <td>Urban</td>\n",
              "      <td>91.08%</td>\n",
              "      <td>0.62%</td>\n",
              "      <td>0.16%</td>\n",
              "      <td>1.46%</td>\n",
              "      <td>0.64%</td>\n",
              "      <td>0.03%</td>\n",
              "      <td>0.07%</td>\n",
              "      <td>0%</td>\n",
              "      <td>5.94%</td>\n",
              "      <td>23229</td>\n",
              "      <td>21156</td>\n",
              "      <td>144</td>\n",
              "      <td>38</td>\n",
              "      <td>338</td>\n",
              "      <td>148</td>\n",
              "      <td>7</td>\n",
              "      <td>17</td>\n",
              "      <td>1</td>\n",
              "      <td>1380</td>\n",
              "      <td>Nyandarua</td>\n",
              "      <td>Physical Infrastructure, Housing</td>\n",
              "      <td>NaN</td>\n",
              "      <td>CENTRAL</td>\n",
              "      <td>0</td>\n",
              "    </tr>\n",
              "    <tr>\n",
              "      <th>1</th>\n",
              "      <td>NYANDARUA SOUTH</td>\n",
              "      <td>Urban</td>\n",
              "      <td>95.38%</td>\n",
              "      <td>0.47%</td>\n",
              "      <td>2.6%</td>\n",
              "      <td>1.46%</td>\n",
              "      <td>0.06%</td>\n",
              "      <td>0%</td>\n",
              "      <td>0%</td>\n",
              "      <td>0.02%</td>\n",
              "      <td>0.02%</td>\n",
              "      <td>5345</td>\n",
              "      <td>5098</td>\n",
              "      <td>25</td>\n",
              "      <td>139</td>\n",
              "      <td>78</td>\n",
              "      <td>3</td>\n",
              "      <td>0</td>\n",
              "      <td>0</td>\n",
              "      <td>1</td>\n",
              "      <td>1</td>\n",
              "      <td>Nyandarua</td>\n",
              "      <td>Physical Infrastructure, Housing</td>\n",
              "      <td>NaN</td>\n",
              "      <td>CENTRAL</td>\n",
              "      <td>1</td>\n",
              "    </tr>\n",
              "  </tbody>\n",
              "</table>\n",
              "</div>"
            ],
            "text/plain": [
              "          District rural/urban  ... Province OBJECTID\n",
              "0  NYANDARUA NORTH       Urban  ...  CENTRAL        0\n",
              "1  NYANDARUA SOUTH       Urban  ...  CENTRAL        1\n",
              "\n",
              "[2 rows x 26 columns]"
            ]
          },
          "metadata": {
            "tags": []
          },
          "execution_count": 32
        }
      ]
    },
    {
      "cell_type": "code",
      "metadata": {
        "id": "E5tN2VxPALw5",
        "colab_type": "code",
        "colab": {}
      },
      "source": [
        "df.drop(['Location_1'],axis=1,inplace =True)"
      ],
      "execution_count": 0,
      "outputs": []
    },
    {
      "cell_type": "code",
      "metadata": {
        "id": "LsAXRjrQA8y9",
        "colab_type": "code",
        "outputId": "650f1c1d-e34d-41cc-8913-a1979cee7b04",
        "colab": {
          "base_uri": "https://localhost:8080/",
          "height": 199
        }
      },
      "source": [
        "df.head(2)"
      ],
      "execution_count": 0,
      "outputs": [
        {
          "output_type": "execute_result",
          "data": {
            "text/html": [
              "<div>\n",
              "<style scoped>\n",
              "    .dataframe tbody tr th:only-of-type {\n",
              "        vertical-align: middle;\n",
              "    }\n",
              "\n",
              "    .dataframe tbody tr th {\n",
              "        vertical-align: top;\n",
              "    }\n",
              "\n",
              "    .dataframe thead th {\n",
              "        text-align: right;\n",
              "    }\n",
              "</style>\n",
              "<table border=\"1\" class=\"dataframe\">\n",
              "  <thead>\n",
              "    <tr style=\"text-align: right;\">\n",
              "      <th></th>\n",
              "      <th>District</th>\n",
              "      <th>rural/urban</th>\n",
              "      <th>%_of_Households_Corrugated_Iron_Sheets</th>\n",
              "      <th>%_of_Households_Tiles</th>\n",
              "      <th>%_of_Households_Concrete</th>\n",
              "      <th>Asbestos_%_of_Households_Sheets</th>\n",
              "      <th>%_of_Households_Grass</th>\n",
              "      <th>%_of_Households_Makuti</th>\n",
              "      <th>%_of_Households_Tin</th>\n",
              "      <th>%_of_Households_Mud/Dung</th>\n",
              "      <th>%_of_Households_Other</th>\n",
              "      <th>Households</th>\n",
              "      <th>No_Corrugated_Iron_Sheets</th>\n",
              "      <th>No_Tiles</th>\n",
              "      <th>No_Concrete</th>\n",
              "      <th>No_Asbestos_Sheets</th>\n",
              "      <th>No_Grass</th>\n",
              "      <th>No_Makuti</th>\n",
              "      <th>No_Tin</th>\n",
              "      <th>No_Mud/Dung</th>\n",
              "      <th>No_Other</th>\n",
              "      <th>County</th>\n",
              "      <th>MTEF</th>\n",
              "      <th>Province</th>\n",
              "      <th>OBJECTID</th>\n",
              "    </tr>\n",
              "  </thead>\n",
              "  <tbody>\n",
              "    <tr>\n",
              "      <th>0</th>\n",
              "      <td>NYANDARUA NORTH</td>\n",
              "      <td>Urban</td>\n",
              "      <td>91.08%</td>\n",
              "      <td>0.62%</td>\n",
              "      <td>0.16%</td>\n",
              "      <td>1.46%</td>\n",
              "      <td>0.64%</td>\n",
              "      <td>0.03%</td>\n",
              "      <td>0.07%</td>\n",
              "      <td>0%</td>\n",
              "      <td>5.94%</td>\n",
              "      <td>23229</td>\n",
              "      <td>21156</td>\n",
              "      <td>144</td>\n",
              "      <td>38</td>\n",
              "      <td>338</td>\n",
              "      <td>148</td>\n",
              "      <td>7</td>\n",
              "      <td>17</td>\n",
              "      <td>1</td>\n",
              "      <td>1380</td>\n",
              "      <td>Nyandarua</td>\n",
              "      <td>Physical Infrastructure, Housing</td>\n",
              "      <td>CENTRAL</td>\n",
              "      <td>0</td>\n",
              "    </tr>\n",
              "    <tr>\n",
              "      <th>1</th>\n",
              "      <td>NYANDARUA SOUTH</td>\n",
              "      <td>Urban</td>\n",
              "      <td>95.38%</td>\n",
              "      <td>0.47%</td>\n",
              "      <td>2.6%</td>\n",
              "      <td>1.46%</td>\n",
              "      <td>0.06%</td>\n",
              "      <td>0%</td>\n",
              "      <td>0%</td>\n",
              "      <td>0.02%</td>\n",
              "      <td>0.02%</td>\n",
              "      <td>5345</td>\n",
              "      <td>5098</td>\n",
              "      <td>25</td>\n",
              "      <td>139</td>\n",
              "      <td>78</td>\n",
              "      <td>3</td>\n",
              "      <td>0</td>\n",
              "      <td>0</td>\n",
              "      <td>1</td>\n",
              "      <td>1</td>\n",
              "      <td>Nyandarua</td>\n",
              "      <td>Physical Infrastructure, Housing</td>\n",
              "      <td>CENTRAL</td>\n",
              "      <td>1</td>\n",
              "    </tr>\n",
              "  </tbody>\n",
              "</table>\n",
              "</div>"
            ],
            "text/plain": [
              "          District rural/urban  ... Province OBJECTID\n",
              "0  NYANDARUA NORTH       Urban  ...  CENTRAL        0\n",
              "1  NYANDARUA SOUTH       Urban  ...  CENTRAL        1\n",
              "\n",
              "[2 rows x 25 columns]"
            ]
          },
          "metadata": {
            "tags": []
          },
          "execution_count": 34
        }
      ]
    },
    {
      "cell_type": "code",
      "metadata": {
        "id": "AhhV-8A4BGAf",
        "colab_type": "code",
        "outputId": "467a3e9d-962a-4eb9-f44b-3ae1f97e2fac",
        "colab": {
          "base_uri": "https://localhost:8080/",
          "height": 1000
        }
      },
      "source": [
        "df.info"
      ],
      "execution_count": 0,
      "outputs": [
        {
          "output_type": "execute_result",
          "data": {
            "text/plain": [
              "<bound method DataFrame.info of                  District rural/urban  ... Province OBJECTID\n",
              "0         NYANDARUA NORTH       Urban  ...  CENTRAL        0\n",
              "1         NYANDARUA SOUTH       Urban  ...  CENTRAL        1\n",
              "2             NYERI NORTH       Urban  ...  CENTRAL        2\n",
              "3             NYERI SOUTH       Urban  ...  CENTRAL        3\n",
              "4               KIRINYAGA       Urban  ...  CENTRAL        4\n",
              "5           MURANGA NORTH       Urban  ...  CENTRAL        5\n",
              "6           MURANGA SOUTH       Urban  ...  CENTRAL        6\n",
              "7    KIAMBU EAST(KIAMBAA)       Urban  ...  CENTRAL        7\n",
              "8                  KIKUYU       Urban  ...  CENTRAL        8\n",
              "9             KIAMBU WEST       Urban  ...  CENTRAL        9\n",
              "10                   LARI       Urban  ...  CENTRAL       10\n",
              "11             GITHUNGURI       Urban  ...  CENTRAL       11\n",
              "12             THIKA EAST       Urban  ...  CENTRAL       12\n",
              "13             THIKA WEST       Urban  ...  CENTRAL       13\n",
              "14                  RUIRU       Urban  ...  CENTRAL       14\n",
              "15                GATANGA       Urban  ...  CENTRAL       15\n",
              "16                GATUNDU       Urban  ...  CENTRAL       16\n",
              "17        NYANDARUA NORTH       Rural  ...  CENTRAL       17\n",
              "18        NYANDARUA SOUTH       Rural  ...  CENTRAL       18\n",
              "19            NYERI NORTH       Rural  ...  CENTRAL       19\n",
              "20            NYERI SOUTH       Rural  ...  CENTRAL       20\n",
              "21              KIRINYAGA       Rural  ...  CENTRAL       21\n",
              "22          MURANGA NORTH       Rural  ...  CENTRAL       22\n",
              "23          MURANGA SOUTH       Rural  ...  CENTRAL       23\n",
              "24   KIAMBU EAST(KIAMBAA)       Rural  ...  CENTRAL       24\n",
              "25                 KIKUYU       Rural  ...  CENTRAL       25\n",
              "26            KIAMBU WEST       Rural  ...  CENTRAL       26\n",
              "27                   LARI       Rural  ...  CENTRAL       27\n",
              "28             GITHUNGURI       Rural  ...  CENTRAL       28\n",
              "29             THIKA EAST       Rural  ...  CENTRAL       29\n",
              "..                    ...         ...  ...      ...      ...\n",
              "285         BUNGOMA SOUTH       Urban  ...  WESTERN      285\n",
              "286         BUNGOMA NORTH       Urban  ...  WESTERN      286\n",
              "287          BUNGOMA EAST       Urban  ...  WESTERN      287\n",
              "288          BUNGOMA WEST       Urban  ...  WESTERN      288\n",
              "289             MT. ELGON       Urban  ...  WESTERN      289\n",
              "290                 BUSIA       Urban  ...  WESTERN      290\n",
              "291            TESO NORTH       Urban  ...  WESTERN      291\n",
              "292                 SAMIA       Urban  ...  WESTERN      292\n",
              "293               BUNYALA       Urban  ...  WESTERN      293\n",
              "294            TESO SOUTH       Urban  ...  WESTERN      294\n",
              "295      KAKAMEGA CENTRAL       Rural  ...  WESTERN      295\n",
              "296        KAKAMEGA SOUTH       Rural  ...  WESTERN      296\n",
              "297        KAKAMEGA NORTH       Rural  ...  WESTERN      297\n",
              "298         KAKAMEGA EAST       Rural  ...  WESTERN      298\n",
              "299                LUGARI       Rural  ...  WESTERN      299\n",
              "300                VIHIGA       Rural  ...  WESTERN      300\n",
              "301               EMUHAYA       Rural  ...  WESTERN      301\n",
              "302                HAMISI       Rural  ...  WESTERN      302\n",
              "303                MUMIAS       Rural  ...  WESTERN      303\n",
              "304                BUTERE       Rural  ...  WESTERN      304\n",
              "305         BUNGOMA SOUTH       Rural  ...  WESTERN      305\n",
              "306         BUNGOMA NORTH       Rural  ...  WESTERN      306\n",
              "307          BUNGOMA EAST       Rural  ...  WESTERN      307\n",
              "308          BUNGOMA WEST       Rural  ...  WESTERN      308\n",
              "309             MT. ELGON       Rural  ...  WESTERN      309\n",
              "310                 BUSIA       Rural  ...  WESTERN      310\n",
              "311            TESO NORTH       Rural  ...  WESTERN      311\n",
              "312                 SAMIA       Rural  ...  WESTERN      312\n",
              "313               BUNYALA       Rural  ...  WESTERN      313\n",
              "314            TESO SOUTH       Rural  ...  WESTERN      314\n",
              "\n",
              "[315 rows x 25 columns]>"
            ]
          },
          "metadata": {
            "tags": []
          },
          "execution_count": 35
        }
      ]
    },
    {
      "cell_type": "code",
      "metadata": {
        "id": "62beUB1cBKC4",
        "colab_type": "code",
        "outputId": "4ee41aca-6b15-407c-a8e8-8f8da7061294",
        "colab": {
          "base_uri": "https://localhost:8080/",
          "height": 34
        }
      },
      "source": [
        "df.shape"
      ],
      "execution_count": 0,
      "outputs": [
        {
          "output_type": "execute_result",
          "data": {
            "text/plain": [
              "(315, 25)"
            ]
          },
          "metadata": {
            "tags": []
          },
          "execution_count": 36
        }
      ]
    },
    {
      "cell_type": "code",
      "metadata": {
        "id": "7JV8VU2YBNTN",
        "colab_type": "code",
        "colab": {}
      },
      "source": [
        "df.drop(['OBJECTID'],axis=1 ,inplace=True)"
      ],
      "execution_count": 0,
      "outputs": []
    },
    {
      "cell_type": "code",
      "metadata": {
        "id": "spQX6H_8CbAN",
        "colab_type": "code",
        "outputId": "faa7a7c1-3713-4ef0-abfb-37fcad400cb8",
        "colab": {
          "base_uri": "https://localhost:8080/",
          "height": 199
        }
      },
      "source": [
        "df.head(2)"
      ],
      "execution_count": 0,
      "outputs": [
        {
          "output_type": "execute_result",
          "data": {
            "text/html": [
              "<div>\n",
              "<style scoped>\n",
              "    .dataframe tbody tr th:only-of-type {\n",
              "        vertical-align: middle;\n",
              "    }\n",
              "\n",
              "    .dataframe tbody tr th {\n",
              "        vertical-align: top;\n",
              "    }\n",
              "\n",
              "    .dataframe thead th {\n",
              "        text-align: right;\n",
              "    }\n",
              "</style>\n",
              "<table border=\"1\" class=\"dataframe\">\n",
              "  <thead>\n",
              "    <tr style=\"text-align: right;\">\n",
              "      <th></th>\n",
              "      <th>District</th>\n",
              "      <th>rural/urban</th>\n",
              "      <th>%_of_Households_Corrugated_Iron_Sheets</th>\n",
              "      <th>%_of_Households_Tiles</th>\n",
              "      <th>%_of_Households_Concrete</th>\n",
              "      <th>Asbestos_%_of_Households_Sheets</th>\n",
              "      <th>%_of_Households_Grass</th>\n",
              "      <th>%_of_Households_Makuti</th>\n",
              "      <th>%_of_Households_Tin</th>\n",
              "      <th>%_of_Households_Mud/Dung</th>\n",
              "      <th>%_of_Households_Other</th>\n",
              "      <th>Households</th>\n",
              "      <th>No_Corrugated_Iron_Sheets</th>\n",
              "      <th>No_Tiles</th>\n",
              "      <th>No_Concrete</th>\n",
              "      <th>No_Asbestos_Sheets</th>\n",
              "      <th>No_Grass</th>\n",
              "      <th>No_Makuti</th>\n",
              "      <th>No_Tin</th>\n",
              "      <th>No_Mud/Dung</th>\n",
              "      <th>No_Other</th>\n",
              "      <th>County</th>\n",
              "      <th>MTEF</th>\n",
              "      <th>Province</th>\n",
              "    </tr>\n",
              "  </thead>\n",
              "  <tbody>\n",
              "    <tr>\n",
              "      <th>0</th>\n",
              "      <td>NYANDARUA NORTH</td>\n",
              "      <td>Urban</td>\n",
              "      <td>91.08%</td>\n",
              "      <td>0.62%</td>\n",
              "      <td>0.16%</td>\n",
              "      <td>1.46%</td>\n",
              "      <td>0.64%</td>\n",
              "      <td>0.03%</td>\n",
              "      <td>0.07%</td>\n",
              "      <td>0%</td>\n",
              "      <td>5.94%</td>\n",
              "      <td>23229</td>\n",
              "      <td>21156</td>\n",
              "      <td>144</td>\n",
              "      <td>38</td>\n",
              "      <td>338</td>\n",
              "      <td>148</td>\n",
              "      <td>7</td>\n",
              "      <td>17</td>\n",
              "      <td>1</td>\n",
              "      <td>1380</td>\n",
              "      <td>Nyandarua</td>\n",
              "      <td>Physical Infrastructure, Housing</td>\n",
              "      <td>CENTRAL</td>\n",
              "    </tr>\n",
              "    <tr>\n",
              "      <th>1</th>\n",
              "      <td>NYANDARUA SOUTH</td>\n",
              "      <td>Urban</td>\n",
              "      <td>95.38%</td>\n",
              "      <td>0.47%</td>\n",
              "      <td>2.6%</td>\n",
              "      <td>1.46%</td>\n",
              "      <td>0.06%</td>\n",
              "      <td>0%</td>\n",
              "      <td>0%</td>\n",
              "      <td>0.02%</td>\n",
              "      <td>0.02%</td>\n",
              "      <td>5345</td>\n",
              "      <td>5098</td>\n",
              "      <td>25</td>\n",
              "      <td>139</td>\n",
              "      <td>78</td>\n",
              "      <td>3</td>\n",
              "      <td>0</td>\n",
              "      <td>0</td>\n",
              "      <td>1</td>\n",
              "      <td>1</td>\n",
              "      <td>Nyandarua</td>\n",
              "      <td>Physical Infrastructure, Housing</td>\n",
              "      <td>CENTRAL</td>\n",
              "    </tr>\n",
              "  </tbody>\n",
              "</table>\n",
              "</div>"
            ],
            "text/plain": [
              "          District rural/urban  ...                              MTEF Province\n",
              "0  NYANDARUA NORTH       Urban  ...  Physical Infrastructure, Housing  CENTRAL\n",
              "1  NYANDARUA SOUTH       Urban  ...  Physical Infrastructure, Housing  CENTRAL\n",
              "\n",
              "[2 rows x 24 columns]"
            ]
          },
          "metadata": {
            "tags": []
          },
          "execution_count": 38
        }
      ]
    },
    {
      "cell_type": "code",
      "metadata": {
        "id": "pASRsgxpCgh1",
        "colab_type": "code",
        "outputId": "0264a9ff-0d93-4bfa-a1fe-c59aa6a5633c",
        "colab": {
          "base_uri": "https://localhost:8080/",
          "height": 170
        }
      },
      "source": [
        "df.columns"
      ],
      "execution_count": 0,
      "outputs": [
        {
          "output_type": "execute_result",
          "data": {
            "text/plain": [
              "Index(['District', 'rural/urban', '%_of_Households_Corrugated_Iron_Sheets',\n",
              "       '%_of_Households_Tiles', '%_of_Households_Concrete',\n",
              "       'Asbestos_%_of_Households_Sheets', '%_of_Households_Grass',\n",
              "       '%_of_Households_Makuti', '%_of_Households_Tin',\n",
              "       '%_of_Households_Mud/Dung', '%_of_Households_Other', 'Households',\n",
              "       'No_Corrugated_Iron_Sheets', 'No_Tiles', 'No_Concrete',\n",
              "       'No_Asbestos_Sheets', 'No_Grass', 'No_Makuti', 'No_Tin', 'No_Mud/Dung',\n",
              "       'No_Other', 'County', 'MTEF', 'Province'],\n",
              "      dtype='object')"
            ]
          },
          "metadata": {
            "tags": []
          },
          "execution_count": 39
        }
      ]
    },
    {
      "cell_type": "code",
      "metadata": {
        "id": "E-mvPCa5D65j",
        "colab_type": "code",
        "colab": {}
      },
      "source": [
        "cols=['%_of_Households_Corrugated_Iron_Sheets',\n",
        "       '%_of_Households_Tiles', '%_of_Households_Concrete',\n",
        "       'Asbestos_%_of_Households_Sheets', '%_of_Households_Grass',\n",
        "       '%_of_Households_Makuti', '%_of_Households_Tin',\n",
        "       '%_of_Households_Mud/Dung', '%_of_Households_Other']\n"
      ],
      "execution_count": 0,
      "outputs": []
    },
    {
      "cell_type": "code",
      "metadata": {
        "id": "9SdHRXgTEaPd",
        "colab_type": "code",
        "outputId": "63879bd9-9119-4dff-f084-fae24d5c701a",
        "colab": {
          "base_uri": "https://localhost:8080/",
          "height": 394
        }
      },
      "source": [
        "#remove the percentages \n",
        "#regex special character\n",
        "df[cols]=df[cols].replace({'%':''},regex =True)\n",
        "df.head()"
      ],
      "execution_count": 0,
      "outputs": [
        {
          "output_type": "execute_result",
          "data": {
            "text/html": [
              "<div>\n",
              "<style scoped>\n",
              "    .dataframe tbody tr th:only-of-type {\n",
              "        vertical-align: middle;\n",
              "    }\n",
              "\n",
              "    .dataframe tbody tr th {\n",
              "        vertical-align: top;\n",
              "    }\n",
              "\n",
              "    .dataframe thead th {\n",
              "        text-align: right;\n",
              "    }\n",
              "</style>\n",
              "<table border=\"1\" class=\"dataframe\">\n",
              "  <thead>\n",
              "    <tr style=\"text-align: right;\">\n",
              "      <th></th>\n",
              "      <th>District</th>\n",
              "      <th>rural/urban</th>\n",
              "      <th>%_of_Households_Corrugated_Iron_Sheets</th>\n",
              "      <th>%_of_Households_Tiles</th>\n",
              "      <th>%_of_Households_Concrete</th>\n",
              "      <th>Asbestos_%_of_Households_Sheets</th>\n",
              "      <th>%_of_Households_Grass</th>\n",
              "      <th>%_of_Households_Makuti</th>\n",
              "      <th>%_of_Households_Tin</th>\n",
              "      <th>%_of_Households_Mud/Dung</th>\n",
              "      <th>%_of_Households_Other</th>\n",
              "      <th>Households</th>\n",
              "      <th>No_Corrugated_Iron_Sheets</th>\n",
              "      <th>No_Tiles</th>\n",
              "      <th>No_Concrete</th>\n",
              "      <th>No_Asbestos_Sheets</th>\n",
              "      <th>No_Grass</th>\n",
              "      <th>No_Makuti</th>\n",
              "      <th>No_Tin</th>\n",
              "      <th>No_Mud/Dung</th>\n",
              "      <th>No_Other</th>\n",
              "      <th>County</th>\n",
              "      <th>MTEF</th>\n",
              "      <th>Province</th>\n",
              "    </tr>\n",
              "  </thead>\n",
              "  <tbody>\n",
              "    <tr>\n",
              "      <th>0</th>\n",
              "      <td>NYANDARUA NORTH</td>\n",
              "      <td>Urban</td>\n",
              "      <td>91.08</td>\n",
              "      <td>0.62</td>\n",
              "      <td>0.16</td>\n",
              "      <td>1.46</td>\n",
              "      <td>0.64</td>\n",
              "      <td>0.03</td>\n",
              "      <td>0.07</td>\n",
              "      <td>0</td>\n",
              "      <td>5.94</td>\n",
              "      <td>23229</td>\n",
              "      <td>21156</td>\n",
              "      <td>144</td>\n",
              "      <td>38</td>\n",
              "      <td>338</td>\n",
              "      <td>148</td>\n",
              "      <td>7</td>\n",
              "      <td>17</td>\n",
              "      <td>1</td>\n",
              "      <td>1380</td>\n",
              "      <td>Nyandarua</td>\n",
              "      <td>Physical Infrastructure, Housing</td>\n",
              "      <td>CENTRAL</td>\n",
              "    </tr>\n",
              "    <tr>\n",
              "      <th>1</th>\n",
              "      <td>NYANDARUA SOUTH</td>\n",
              "      <td>Urban</td>\n",
              "      <td>95.38</td>\n",
              "      <td>0.47</td>\n",
              "      <td>2.6</td>\n",
              "      <td>1.46</td>\n",
              "      <td>0.06</td>\n",
              "      <td>0</td>\n",
              "      <td>0</td>\n",
              "      <td>0.02</td>\n",
              "      <td>0.02</td>\n",
              "      <td>5345</td>\n",
              "      <td>5098</td>\n",
              "      <td>25</td>\n",
              "      <td>139</td>\n",
              "      <td>78</td>\n",
              "      <td>3</td>\n",
              "      <td>0</td>\n",
              "      <td>0</td>\n",
              "      <td>1</td>\n",
              "      <td>1</td>\n",
              "      <td>Nyandarua</td>\n",
              "      <td>Physical Infrastructure, Housing</td>\n",
              "      <td>CENTRAL</td>\n",
              "    </tr>\n",
              "    <tr>\n",
              "      <th>2</th>\n",
              "      <td>NYERI NORTH</td>\n",
              "      <td>Urban</td>\n",
              "      <td>90.28</td>\n",
              "      <td>1.13</td>\n",
              "      <td>5.21</td>\n",
              "      <td>2.58</td>\n",
              "      <td>0.49</td>\n",
              "      <td>0.08</td>\n",
              "      <td>0.2</td>\n",
              "      <td>0.01</td>\n",
              "      <td>0.01</td>\n",
              "      <td>14208</td>\n",
              "      <td>12827</td>\n",
              "      <td>161</td>\n",
              "      <td>740</td>\n",
              "      <td>367</td>\n",
              "      <td>69</td>\n",
              "      <td>11</td>\n",
              "      <td>29</td>\n",
              "      <td>2</td>\n",
              "      <td>2</td>\n",
              "      <td>Nyeri</td>\n",
              "      <td>Physical Infrastructure, Housing</td>\n",
              "      <td>CENTRAL</td>\n",
              "    </tr>\n",
              "    <tr>\n",
              "      <th>3</th>\n",
              "      <td>NYERI SOUTH</td>\n",
              "      <td>Urban</td>\n",
              "      <td>90.89</td>\n",
              "      <td>2.3</td>\n",
              "      <td>3.32</td>\n",
              "      <td>3.04</td>\n",
              "      <td>0.09</td>\n",
              "      <td>0.05</td>\n",
              "      <td>0.14</td>\n",
              "      <td>0.01</td>\n",
              "      <td>0.17</td>\n",
              "      <td>39927</td>\n",
              "      <td>36290</td>\n",
              "      <td>917</td>\n",
              "      <td>1325</td>\n",
              "      <td>1213</td>\n",
              "      <td>36</td>\n",
              "      <td>20</td>\n",
              "      <td>57</td>\n",
              "      <td>2</td>\n",
              "      <td>67</td>\n",
              "      <td>Nyeri</td>\n",
              "      <td>Physical Infrastructure, Housing</td>\n",
              "      <td>CENTRAL</td>\n",
              "    </tr>\n",
              "    <tr>\n",
              "      <th>4</th>\n",
              "      <td>KIRINYAGA</td>\n",
              "      <td>Urban</td>\n",
              "      <td>91.41</td>\n",
              "      <td>0.87</td>\n",
              "      <td>3.97</td>\n",
              "      <td>3.5</td>\n",
              "      <td>0.04</td>\n",
              "      <td>0.01</td>\n",
              "      <td>0.03</td>\n",
              "      <td>0.01</td>\n",
              "      <td>0.15</td>\n",
              "      <td>27461</td>\n",
              "      <td>25103</td>\n",
              "      <td>239</td>\n",
              "      <td>1090</td>\n",
              "      <td>960</td>\n",
              "      <td>11</td>\n",
              "      <td>3</td>\n",
              "      <td>9</td>\n",
              "      <td>4</td>\n",
              "      <td>42</td>\n",
              "      <td>Kirinyaga</td>\n",
              "      <td>Physical Infrastructure, Housing</td>\n",
              "      <td>CENTRAL</td>\n",
              "    </tr>\n",
              "  </tbody>\n",
              "</table>\n",
              "</div>"
            ],
            "text/plain": [
              "          District rural/urban  ...                              MTEF Province\n",
              "0  NYANDARUA NORTH       Urban  ...  Physical Infrastructure, Housing  CENTRAL\n",
              "1  NYANDARUA SOUTH       Urban  ...  Physical Infrastructure, Housing  CENTRAL\n",
              "2      NYERI NORTH       Urban  ...  Physical Infrastructure, Housing  CENTRAL\n",
              "3      NYERI SOUTH       Urban  ...  Physical Infrastructure, Housing  CENTRAL\n",
              "4        KIRINYAGA       Urban  ...  Physical Infrastructure, Housing  CENTRAL\n",
              "\n",
              "[5 rows x 24 columns]"
            ]
          },
          "metadata": {
            "tags": []
          },
          "execution_count": 44
        }
      ]
    },
    {
      "cell_type": "code",
      "metadata": {
        "id": "gAlSyKsKEh7B",
        "colab_type": "code",
        "outputId": "111c73e6-2925-4dc0-c831-6c34e866322c",
        "colab": {
          "base_uri": "https://localhost:8080/",
          "height": 34
        }
      },
      "source": [
        "#checking missing values in the dataset\n",
        "df.isnull().sum().any()"
      ],
      "execution_count": 0,
      "outputs": [
        {
          "output_type": "execute_result",
          "data": {
            "text/plain": [
              "True"
            ]
          },
          "metadata": {
            "tags": []
          },
          "execution_count": 45
        }
      ]
    },
    {
      "cell_type": "code",
      "metadata": {
        "id": "LN4XGFRPI1Dx",
        "colab_type": "code",
        "outputId": "8e23af55-bd78-41f4-ab61-6807614177ec",
        "colab": {
          "base_uri": "https://localhost:8080/",
          "height": 442
        }
      },
      "source": [
        "#missing values whole dataset\n",
        "df.isnull().sum()"
      ],
      "execution_count": 0,
      "outputs": [
        {
          "output_type": "execute_result",
          "data": {
            "text/plain": [
              "District                                   0\n",
              "rural/urban                                0\n",
              "%_of_Households_Corrugated_Iron_Sheets    25\n",
              "%_of_Households_Tiles                     25\n",
              "%_of_Households_Concrete                  25\n",
              "Asbestos_%_of_Households_Sheets           25\n",
              "%_of_Households_Grass                     25\n",
              "%_of_Households_Makuti                    25\n",
              "%_of_Households_Tin                       25\n",
              "%_of_Households_Mud/Dung                  25\n",
              "%_of_Households_Other                     25\n",
              "Households                                 0\n",
              "No_Corrugated_Iron_Sheets                  0\n",
              "No_Tiles                                   0\n",
              "No_Concrete                                0\n",
              "No_Asbestos_Sheets                         0\n",
              "No_Grass                                   0\n",
              "No_Makuti                                  0\n",
              "No_Tin                                     0\n",
              "No_Mud/Dung                                0\n",
              "No_Other                                   0\n",
              "County                                     0\n",
              "MTEF                                       0\n",
              "Province                                   0\n",
              "dtype: int64"
            ]
          },
          "metadata": {
            "tags": []
          },
          "execution_count": 48
        }
      ]
    },
    {
      "cell_type": "code",
      "metadata": {
        "id": "xYJp0yqUJOn9",
        "colab_type": "code",
        "colab": {}
      },
      "source": [
        "#drop all null values in dataset\n",
        "df.dropna(inplace=True)"
      ],
      "execution_count": 0,
      "outputs": []
    },
    {
      "cell_type": "code",
      "metadata": {
        "id": "O6mCFaWBJcUz",
        "colab_type": "code",
        "outputId": "5a7b74df-fb46-4fce-a564-fcd087722322",
        "colab": {
          "base_uri": "https://localhost:8080/",
          "height": 442
        }
      },
      "source": [
        "df.isnull().sum()"
      ],
      "execution_count": 0,
      "outputs": [
        {
          "output_type": "execute_result",
          "data": {
            "text/plain": [
              "District                                  0\n",
              "rural/urban                               0\n",
              "%_of_Households_Corrugated_Iron_Sheets    0\n",
              "%_of_Households_Tiles                     0\n",
              "%_of_Households_Concrete                  0\n",
              "Asbestos_%_of_Households_Sheets           0\n",
              "%_of_Households_Grass                     0\n",
              "%_of_Households_Makuti                    0\n",
              "%_of_Households_Tin                       0\n",
              "%_of_Households_Mud/Dung                  0\n",
              "%_of_Households_Other                     0\n",
              "Households                                0\n",
              "No_Corrugated_Iron_Sheets                 0\n",
              "No_Tiles                                  0\n",
              "No_Concrete                               0\n",
              "No_Asbestos_Sheets                        0\n",
              "No_Grass                                  0\n",
              "No_Makuti                                 0\n",
              "No_Tin                                    0\n",
              "No_Mud/Dung                               0\n",
              "No_Other                                  0\n",
              "County                                    0\n",
              "MTEF                                      0\n",
              "Province                                  0\n",
              "dtype: int64"
            ]
          },
          "metadata": {
            "tags": []
          },
          "execution_count": 50
        }
      ]
    },
    {
      "cell_type": "code",
      "metadata": {
        "id": "1kOxlihaKLFK",
        "colab_type": "code",
        "colab": {}
      },
      "source": [
        "#fixing messy columns"
      ],
      "execution_count": 0,
      "outputs": []
    },
    {
      "cell_type": "code",
      "metadata": {
        "id": "s5aG540XKUwE",
        "colab_type": "code",
        "outputId": "9965e6c9-7d0e-4201-bc0d-4c71995466f4",
        "colab": {
          "base_uri": "https://localhost:8080/",
          "height": 170
        }
      },
      "source": [
        "df.columns"
      ],
      "execution_count": 0,
      "outputs": [
        {
          "output_type": "execute_result",
          "data": {
            "text/plain": [
              "Index(['District', 'rural/urban', '%_of_Households_Corrugated_Iron_Sheets',\n",
              "       '%_of_Households_Tiles', '%_of_Households_Concrete',\n",
              "       'Asbestos_%_of_Households_Sheets', '%_of_Households_Grass',\n",
              "       '%_of_Households_Makuti', '%_of_Households_Tin',\n",
              "       '%_of_Households_Mud/Dung', '%_of_Households_Other', 'Households',\n",
              "       'No_Corrugated_Iron_Sheets', 'No_Tiles', 'No_Concrete',\n",
              "       'No_Asbestos_Sheets', 'No_Grass', 'No_Makuti', 'No_Tin', 'No_Mud/Dung',\n",
              "       'No_Other', 'County', 'MTEF', 'Province'],\n",
              "      dtype='object')"
            ]
          },
          "metadata": {
            "tags": []
          },
          "execution_count": 52
        }
      ]
    },
    {
      "cell_type": "code",
      "metadata": {
        "id": "6iC6zOMmKWsN",
        "colab_type": "code",
        "colab": {}
      },
      "source": [
        "df.columns=df.columns.str.lower().str.replace('%_of_','').str.replace('/','_')"
      ],
      "execution_count": 0,
      "outputs": []
    },
    {
      "cell_type": "code",
      "metadata": {
        "id": "qJmiP7RdLMZY",
        "colab_type": "code",
        "outputId": "f8c96182-64b3-49b1-b573-302d2baed61e",
        "colab": {
          "base_uri": "https://localhost:8080/",
          "height": 153
        }
      },
      "source": [
        "df.columns"
      ],
      "execution_count": 0,
      "outputs": [
        {
          "output_type": "execute_result",
          "data": {
            "text/plain": [
              "Index(['district', 'rural_urban', 'households_corrugated_iron_sheets',\n",
              "       'households_tiles', 'households_concrete', 'asbestos_households_sheets',\n",
              "       'households_grass', 'households_makuti', 'households_tin',\n",
              "       'households_mud_dung', 'households_other', 'households',\n",
              "       'no_corrugated_iron_sheets', 'no_tiles', 'no_concrete',\n",
              "       'no_asbestos_sheets', 'no_grass', 'no_makuti', 'no_tin', 'no_mud_dung',\n",
              "       'no_other', 'county', 'mtef', 'province'],\n",
              "      dtype='object')"
            ]
          },
          "metadata": {
            "tags": []
          },
          "execution_count": 54
        }
      ]
    },
    {
      "cell_type": "code",
      "metadata": {
        "id": "xxIzUyNALTBj",
        "colab_type": "code",
        "colab": {}
      },
      "source": [
        "#managing clean file\n",
        "df.to_csv('Roofing.csv')"
      ],
      "execution_count": 0,
      "outputs": []
    },
    {
      "cell_type": "code",
      "metadata": {
        "id": "HxB6CW5-L9lT",
        "colab_type": "code",
        "outputId": "b8d0386c-93b0-4db6-f190-2edf5987e69f",
        "colab": {
          "base_uri": "https://localhost:8080/",
          "height": 411
        }
      },
      "source": [
        "rf=pd.read_csv('Roofing.csv')\n",
        "rf.head()"
      ],
      "execution_count": 0,
      "outputs": [
        {
          "output_type": "execute_result",
          "data": {
            "text/html": [
              "<div>\n",
              "<style scoped>\n",
              "    .dataframe tbody tr th:only-of-type {\n",
              "        vertical-align: middle;\n",
              "    }\n",
              "\n",
              "    .dataframe tbody tr th {\n",
              "        vertical-align: top;\n",
              "    }\n",
              "\n",
              "    .dataframe thead th {\n",
              "        text-align: right;\n",
              "    }\n",
              "</style>\n",
              "<table border=\"1\" class=\"dataframe\">\n",
              "  <thead>\n",
              "    <tr style=\"text-align: right;\">\n",
              "      <th></th>\n",
              "      <th>Unnamed: 0</th>\n",
              "      <th>district</th>\n",
              "      <th>rural_urban</th>\n",
              "      <th>households_corrugated_iron_sheets</th>\n",
              "      <th>households_tiles</th>\n",
              "      <th>households_concrete</th>\n",
              "      <th>asbestos_households_sheets</th>\n",
              "      <th>households_grass</th>\n",
              "      <th>households_makuti</th>\n",
              "      <th>households_tin</th>\n",
              "      <th>households_mud_dung</th>\n",
              "      <th>households_other</th>\n",
              "      <th>households</th>\n",
              "      <th>no_corrugated_iron_sheets</th>\n",
              "      <th>no_tiles</th>\n",
              "      <th>no_concrete</th>\n",
              "      <th>no_asbestos_sheets</th>\n",
              "      <th>no_grass</th>\n",
              "      <th>no_makuti</th>\n",
              "      <th>no_tin</th>\n",
              "      <th>no_mud_dung</th>\n",
              "      <th>no_other</th>\n",
              "      <th>county</th>\n",
              "      <th>mtef</th>\n",
              "      <th>province</th>\n",
              "    </tr>\n",
              "  </thead>\n",
              "  <tbody>\n",
              "    <tr>\n",
              "      <th>0</th>\n",
              "      <td>0</td>\n",
              "      <td>NYANDARUA NORTH</td>\n",
              "      <td>Urban</td>\n",
              "      <td>91.08</td>\n",
              "      <td>0.62</td>\n",
              "      <td>0.16</td>\n",
              "      <td>1.46</td>\n",
              "      <td>0.64</td>\n",
              "      <td>0.03</td>\n",
              "      <td>0.07</td>\n",
              "      <td>0.00</td>\n",
              "      <td>5.94</td>\n",
              "      <td>23229</td>\n",
              "      <td>21156</td>\n",
              "      <td>144</td>\n",
              "      <td>38</td>\n",
              "      <td>338</td>\n",
              "      <td>148</td>\n",
              "      <td>7</td>\n",
              "      <td>17</td>\n",
              "      <td>1</td>\n",
              "      <td>1380</td>\n",
              "      <td>Nyandarua</td>\n",
              "      <td>Physical Infrastructure, Housing</td>\n",
              "      <td>CENTRAL</td>\n",
              "    </tr>\n",
              "    <tr>\n",
              "      <th>1</th>\n",
              "      <td>1</td>\n",
              "      <td>NYANDARUA SOUTH</td>\n",
              "      <td>Urban</td>\n",
              "      <td>95.38</td>\n",
              "      <td>0.47</td>\n",
              "      <td>2.60</td>\n",
              "      <td>1.46</td>\n",
              "      <td>0.06</td>\n",
              "      <td>0.00</td>\n",
              "      <td>0.00</td>\n",
              "      <td>0.02</td>\n",
              "      <td>0.02</td>\n",
              "      <td>5345</td>\n",
              "      <td>5098</td>\n",
              "      <td>25</td>\n",
              "      <td>139</td>\n",
              "      <td>78</td>\n",
              "      <td>3</td>\n",
              "      <td>0</td>\n",
              "      <td>0</td>\n",
              "      <td>1</td>\n",
              "      <td>1</td>\n",
              "      <td>Nyandarua</td>\n",
              "      <td>Physical Infrastructure, Housing</td>\n",
              "      <td>CENTRAL</td>\n",
              "    </tr>\n",
              "    <tr>\n",
              "      <th>2</th>\n",
              "      <td>2</td>\n",
              "      <td>NYERI NORTH</td>\n",
              "      <td>Urban</td>\n",
              "      <td>90.28</td>\n",
              "      <td>1.13</td>\n",
              "      <td>5.21</td>\n",
              "      <td>2.58</td>\n",
              "      <td>0.49</td>\n",
              "      <td>0.08</td>\n",
              "      <td>0.20</td>\n",
              "      <td>0.01</td>\n",
              "      <td>0.01</td>\n",
              "      <td>14208</td>\n",
              "      <td>12827</td>\n",
              "      <td>161</td>\n",
              "      <td>740</td>\n",
              "      <td>367</td>\n",
              "      <td>69</td>\n",
              "      <td>11</td>\n",
              "      <td>29</td>\n",
              "      <td>2</td>\n",
              "      <td>2</td>\n",
              "      <td>Nyeri</td>\n",
              "      <td>Physical Infrastructure, Housing</td>\n",
              "      <td>CENTRAL</td>\n",
              "    </tr>\n",
              "    <tr>\n",
              "      <th>3</th>\n",
              "      <td>3</td>\n",
              "      <td>NYERI SOUTH</td>\n",
              "      <td>Urban</td>\n",
              "      <td>90.89</td>\n",
              "      <td>2.30</td>\n",
              "      <td>3.32</td>\n",
              "      <td>3.04</td>\n",
              "      <td>0.09</td>\n",
              "      <td>0.05</td>\n",
              "      <td>0.14</td>\n",
              "      <td>0.01</td>\n",
              "      <td>0.17</td>\n",
              "      <td>39927</td>\n",
              "      <td>36290</td>\n",
              "      <td>917</td>\n",
              "      <td>1325</td>\n",
              "      <td>1213</td>\n",
              "      <td>36</td>\n",
              "      <td>20</td>\n",
              "      <td>57</td>\n",
              "      <td>2</td>\n",
              "      <td>67</td>\n",
              "      <td>Nyeri</td>\n",
              "      <td>Physical Infrastructure, Housing</td>\n",
              "      <td>CENTRAL</td>\n",
              "    </tr>\n",
              "    <tr>\n",
              "      <th>4</th>\n",
              "      <td>4</td>\n",
              "      <td>KIRINYAGA</td>\n",
              "      <td>Urban</td>\n",
              "      <td>91.41</td>\n",
              "      <td>0.87</td>\n",
              "      <td>3.97</td>\n",
              "      <td>3.50</td>\n",
              "      <td>0.04</td>\n",
              "      <td>0.01</td>\n",
              "      <td>0.03</td>\n",
              "      <td>0.01</td>\n",
              "      <td>0.15</td>\n",
              "      <td>27461</td>\n",
              "      <td>25103</td>\n",
              "      <td>239</td>\n",
              "      <td>1090</td>\n",
              "      <td>960</td>\n",
              "      <td>11</td>\n",
              "      <td>3</td>\n",
              "      <td>9</td>\n",
              "      <td>4</td>\n",
              "      <td>42</td>\n",
              "      <td>Kirinyaga</td>\n",
              "      <td>Physical Infrastructure, Housing</td>\n",
              "      <td>CENTRAL</td>\n",
              "    </tr>\n",
              "  </tbody>\n",
              "</table>\n",
              "</div>"
            ],
            "text/plain": [
              "   Unnamed: 0         district  ...                              mtef  province\n",
              "0           0  NYANDARUA NORTH  ...  Physical Infrastructure, Housing   CENTRAL\n",
              "1           1  NYANDARUA SOUTH  ...  Physical Infrastructure, Housing   CENTRAL\n",
              "2           2      NYERI NORTH  ...  Physical Infrastructure, Housing   CENTRAL\n",
              "3           3      NYERI SOUTH  ...  Physical Infrastructure, Housing   CENTRAL\n",
              "4           4        KIRINYAGA  ...  Physical Infrastructure, Housing   CENTRAL\n",
              "\n",
              "[5 rows x 25 columns]"
            ]
          },
          "metadata": {
            "tags": []
          },
          "execution_count": 56
        }
      ]
    },
    {
      "cell_type": "code",
      "metadata": {
        "id": "UpWi9EN9MHwA",
        "colab_type": "code",
        "outputId": "13da7e2f-aa14-4fb1-f771-41de988ff837",
        "colab": {
          "base_uri": "https://localhost:8080/",
          "height": 411
        }
      },
      "source": [
        "cleaned_df= pd.read_csv('Roofing.csv')\n",
        "cleaned_df.head()"
      ],
      "execution_count": 0,
      "outputs": [
        {
          "output_type": "execute_result",
          "data": {
            "text/html": [
              "<div>\n",
              "<style scoped>\n",
              "    .dataframe tbody tr th:only-of-type {\n",
              "        vertical-align: middle;\n",
              "    }\n",
              "\n",
              "    .dataframe tbody tr th {\n",
              "        vertical-align: top;\n",
              "    }\n",
              "\n",
              "    .dataframe thead th {\n",
              "        text-align: right;\n",
              "    }\n",
              "</style>\n",
              "<table border=\"1\" class=\"dataframe\">\n",
              "  <thead>\n",
              "    <tr style=\"text-align: right;\">\n",
              "      <th></th>\n",
              "      <th>Unnamed: 0</th>\n",
              "      <th>district</th>\n",
              "      <th>rural_urban</th>\n",
              "      <th>households_corrugated_iron_sheets</th>\n",
              "      <th>households_tiles</th>\n",
              "      <th>households_concrete</th>\n",
              "      <th>asbestos_households_sheets</th>\n",
              "      <th>households_grass</th>\n",
              "      <th>households_makuti</th>\n",
              "      <th>households_tin</th>\n",
              "      <th>households_mud_dung</th>\n",
              "      <th>households_other</th>\n",
              "      <th>households</th>\n",
              "      <th>no_corrugated_iron_sheets</th>\n",
              "      <th>no_tiles</th>\n",
              "      <th>no_concrete</th>\n",
              "      <th>no_asbestos_sheets</th>\n",
              "      <th>no_grass</th>\n",
              "      <th>no_makuti</th>\n",
              "      <th>no_tin</th>\n",
              "      <th>no_mud_dung</th>\n",
              "      <th>no_other</th>\n",
              "      <th>county</th>\n",
              "      <th>mtef</th>\n",
              "      <th>province</th>\n",
              "    </tr>\n",
              "  </thead>\n",
              "  <tbody>\n",
              "    <tr>\n",
              "      <th>0</th>\n",
              "      <td>0</td>\n",
              "      <td>NYANDARUA NORTH</td>\n",
              "      <td>Urban</td>\n",
              "      <td>91.08</td>\n",
              "      <td>0.62</td>\n",
              "      <td>0.16</td>\n",
              "      <td>1.46</td>\n",
              "      <td>0.64</td>\n",
              "      <td>0.03</td>\n",
              "      <td>0.07</td>\n",
              "      <td>0.00</td>\n",
              "      <td>5.94</td>\n",
              "      <td>23229</td>\n",
              "      <td>21156</td>\n",
              "      <td>144</td>\n",
              "      <td>38</td>\n",
              "      <td>338</td>\n",
              "      <td>148</td>\n",
              "      <td>7</td>\n",
              "      <td>17</td>\n",
              "      <td>1</td>\n",
              "      <td>1380</td>\n",
              "      <td>Nyandarua</td>\n",
              "      <td>Physical Infrastructure, Housing</td>\n",
              "      <td>CENTRAL</td>\n",
              "    </tr>\n",
              "    <tr>\n",
              "      <th>1</th>\n",
              "      <td>1</td>\n",
              "      <td>NYANDARUA SOUTH</td>\n",
              "      <td>Urban</td>\n",
              "      <td>95.38</td>\n",
              "      <td>0.47</td>\n",
              "      <td>2.60</td>\n",
              "      <td>1.46</td>\n",
              "      <td>0.06</td>\n",
              "      <td>0.00</td>\n",
              "      <td>0.00</td>\n",
              "      <td>0.02</td>\n",
              "      <td>0.02</td>\n",
              "      <td>5345</td>\n",
              "      <td>5098</td>\n",
              "      <td>25</td>\n",
              "      <td>139</td>\n",
              "      <td>78</td>\n",
              "      <td>3</td>\n",
              "      <td>0</td>\n",
              "      <td>0</td>\n",
              "      <td>1</td>\n",
              "      <td>1</td>\n",
              "      <td>Nyandarua</td>\n",
              "      <td>Physical Infrastructure, Housing</td>\n",
              "      <td>CENTRAL</td>\n",
              "    </tr>\n",
              "    <tr>\n",
              "      <th>2</th>\n",
              "      <td>2</td>\n",
              "      <td>NYERI NORTH</td>\n",
              "      <td>Urban</td>\n",
              "      <td>90.28</td>\n",
              "      <td>1.13</td>\n",
              "      <td>5.21</td>\n",
              "      <td>2.58</td>\n",
              "      <td>0.49</td>\n",
              "      <td>0.08</td>\n",
              "      <td>0.20</td>\n",
              "      <td>0.01</td>\n",
              "      <td>0.01</td>\n",
              "      <td>14208</td>\n",
              "      <td>12827</td>\n",
              "      <td>161</td>\n",
              "      <td>740</td>\n",
              "      <td>367</td>\n",
              "      <td>69</td>\n",
              "      <td>11</td>\n",
              "      <td>29</td>\n",
              "      <td>2</td>\n",
              "      <td>2</td>\n",
              "      <td>Nyeri</td>\n",
              "      <td>Physical Infrastructure, Housing</td>\n",
              "      <td>CENTRAL</td>\n",
              "    </tr>\n",
              "    <tr>\n",
              "      <th>3</th>\n",
              "      <td>3</td>\n",
              "      <td>NYERI SOUTH</td>\n",
              "      <td>Urban</td>\n",
              "      <td>90.89</td>\n",
              "      <td>2.30</td>\n",
              "      <td>3.32</td>\n",
              "      <td>3.04</td>\n",
              "      <td>0.09</td>\n",
              "      <td>0.05</td>\n",
              "      <td>0.14</td>\n",
              "      <td>0.01</td>\n",
              "      <td>0.17</td>\n",
              "      <td>39927</td>\n",
              "      <td>36290</td>\n",
              "      <td>917</td>\n",
              "      <td>1325</td>\n",
              "      <td>1213</td>\n",
              "      <td>36</td>\n",
              "      <td>20</td>\n",
              "      <td>57</td>\n",
              "      <td>2</td>\n",
              "      <td>67</td>\n",
              "      <td>Nyeri</td>\n",
              "      <td>Physical Infrastructure, Housing</td>\n",
              "      <td>CENTRAL</td>\n",
              "    </tr>\n",
              "    <tr>\n",
              "      <th>4</th>\n",
              "      <td>4</td>\n",
              "      <td>KIRINYAGA</td>\n",
              "      <td>Urban</td>\n",
              "      <td>91.41</td>\n",
              "      <td>0.87</td>\n",
              "      <td>3.97</td>\n",
              "      <td>3.50</td>\n",
              "      <td>0.04</td>\n",
              "      <td>0.01</td>\n",
              "      <td>0.03</td>\n",
              "      <td>0.01</td>\n",
              "      <td>0.15</td>\n",
              "      <td>27461</td>\n",
              "      <td>25103</td>\n",
              "      <td>239</td>\n",
              "      <td>1090</td>\n",
              "      <td>960</td>\n",
              "      <td>11</td>\n",
              "      <td>3</td>\n",
              "      <td>9</td>\n",
              "      <td>4</td>\n",
              "      <td>42</td>\n",
              "      <td>Kirinyaga</td>\n",
              "      <td>Physical Infrastructure, Housing</td>\n",
              "      <td>CENTRAL</td>\n",
              "    </tr>\n",
              "  </tbody>\n",
              "</table>\n",
              "</div>"
            ],
            "text/plain": [
              "   Unnamed: 0         district  ...                              mtef  province\n",
              "0           0  NYANDARUA NORTH  ...  Physical Infrastructure, Housing   CENTRAL\n",
              "1           1  NYANDARUA SOUTH  ...  Physical Infrastructure, Housing   CENTRAL\n",
              "2           2      NYERI NORTH  ...  Physical Infrastructure, Housing   CENTRAL\n",
              "3           3      NYERI SOUTH  ...  Physical Infrastructure, Housing   CENTRAL\n",
              "4           4        KIRINYAGA  ...  Physical Infrastructure, Housing   CENTRAL\n",
              "\n",
              "[5 rows x 25 columns]"
            ]
          },
          "metadata": {
            "tags": []
          },
          "execution_count": 57
        }
      ]
    },
    {
      "cell_type": "code",
      "metadata": {
        "id": "7EEQK0VCOvur",
        "colab_type": "code",
        "outputId": "c6d6f1af-2ff1-463b-e0be-e52d640ae243",
        "colab": {
          "base_uri": "https://localhost:8080/",
          "height": 170
        }
      },
      "source": [
        "cleaned_df.columns"
      ],
      "execution_count": 0,
      "outputs": [
        {
          "output_type": "execute_result",
          "data": {
            "text/plain": [
              "Index(['Unnamed: 0', 'district', 'rural_urban',\n",
              "       'households_corrugated_iron_sheets', 'households_tiles',\n",
              "       'households_concrete', 'asbestos_households_sheets', 'households_grass',\n",
              "       'households_makuti', 'households_tin', 'households_mud_dung',\n",
              "       'households_other', 'households', 'no_corrugated_iron_sheets',\n",
              "       'no_tiles', 'no_concrete', 'no_asbestos_sheets', 'no_grass',\n",
              "       'no_makuti', 'no_tin', 'no_mud_dung', 'no_other', 'county', 'mtef',\n",
              "       'province'],\n",
              "      dtype='object')"
            ]
          },
          "metadata": {
            "tags": []
          },
          "execution_count": 74
        }
      ]
    },
    {
      "cell_type": "code",
      "metadata": {
        "id": "l6fAwbpyNtjS",
        "colab_type": "code",
        "colab": {}
      },
      "source": [
        "grouped=df.groupby('province')[['no_grass','no_tiles','no_concrete']].sum()"
      ],
      "execution_count": 0,
      "outputs": []
    },
    {
      "cell_type": "code",
      "metadata": {
        "id": "QIhcIMnFPGkR",
        "colab_type": "code",
        "outputId": "3885612c-cb2e-43ac-a49d-5141d222b4b3",
        "colab": {
          "base_uri": "https://localhost:8080/",
          "height": 328
        }
      },
      "source": [
        "grouped"
      ],
      "execution_count": 0,
      "outputs": [
        {
          "output_type": "execute_result",
          "data": {
            "text/html": [
              "<div>\n",
              "<style scoped>\n",
              "    .dataframe tbody tr th:only-of-type {\n",
              "        vertical-align: middle;\n",
              "    }\n",
              "\n",
              "    .dataframe tbody tr th {\n",
              "        vertical-align: top;\n",
              "    }\n",
              "\n",
              "    .dataframe thead th {\n",
              "        text-align: right;\n",
              "    }\n",
              "</style>\n",
              "<table border=\"1\" class=\"dataframe\">\n",
              "  <thead>\n",
              "    <tr style=\"text-align: right;\">\n",
              "      <th></th>\n",
              "      <th>no_grass</th>\n",
              "      <th>no_tiles</th>\n",
              "      <th>no_concrete</th>\n",
              "    </tr>\n",
              "    <tr>\n",
              "      <th>province</th>\n",
              "      <th></th>\n",
              "      <th></th>\n",
              "      <th></th>\n",
              "    </tr>\n",
              "  </thead>\n",
              "  <tbody>\n",
              "    <tr>\n",
              "      <th>CENTRAL</th>\n",
              "      <td>4169</td>\n",
              "      <td>22658</td>\n",
              "      <td>39270</td>\n",
              "    </tr>\n",
              "    <tr>\n",
              "      <th>COAST</th>\n",
              "      <td>61928</td>\n",
              "      <td>12931</td>\n",
              "      <td>31213</td>\n",
              "    </tr>\n",
              "    <tr>\n",
              "      <th>EASTERN</th>\n",
              "      <td>113702</td>\n",
              "      <td>12875</td>\n",
              "      <td>10579</td>\n",
              "    </tr>\n",
              "    <tr>\n",
              "      <th>NAIROBI</th>\n",
              "      <td>185</td>\n",
              "      <td>95617</td>\n",
              "      <td>208148</td>\n",
              "    </tr>\n",
              "    <tr>\n",
              "      <th>NORTH EASTERN</th>\n",
              "      <td>212867</td>\n",
              "      <td>1682</td>\n",
              "      <td>455</td>\n",
              "    </tr>\n",
              "    <tr>\n",
              "      <th>NYANZA</th>\n",
              "      <td>190006</td>\n",
              "      <td>9812</td>\n",
              "      <td>4797</td>\n",
              "    </tr>\n",
              "    <tr>\n",
              "      <th>RIFT VALLEY</th>\n",
              "      <td>413394</td>\n",
              "      <td>32928</td>\n",
              "      <td>15656</td>\n",
              "    </tr>\n",
              "    <tr>\n",
              "      <th>WESTERN</th>\n",
              "      <td>197959</td>\n",
              "      <td>5289</td>\n",
              "      <td>1261</td>\n",
              "    </tr>\n",
              "  </tbody>\n",
              "</table>\n",
              "</div>"
            ],
            "text/plain": [
              "               no_grass  no_tiles  no_concrete\n",
              "province                                      \n",
              "CENTRAL            4169     22658        39270\n",
              "COAST             61928     12931        31213\n",
              "EASTERN          113702     12875        10579\n",
              "NAIROBI             185     95617       208148\n",
              "NORTH EASTERN    212867      1682          455\n",
              "NYANZA           190006      9812         4797\n",
              "RIFT VALLEY      413394     32928        15656\n",
              "WESTERN          197959      5289         1261"
            ]
          },
          "metadata": {
            "tags": []
          },
          "execution_count": 64
        }
      ]
    },
    {
      "cell_type": "code",
      "metadata": {
        "id": "G465s5dHREnP",
        "colab_type": "code",
        "outputId": "c583494c-c593-4197-dc3c-ff76e5fb2160",
        "colab": {
          "base_uri": "https://localhost:8080/",
          "height": 328
        }
      },
      "source": [
        "grouped.sort_values(by = 'no_grass',ascending= False)"
      ],
      "execution_count": 0,
      "outputs": [
        {
          "output_type": "execute_result",
          "data": {
            "text/html": [
              "<div>\n",
              "<style scoped>\n",
              "    .dataframe tbody tr th:only-of-type {\n",
              "        vertical-align: middle;\n",
              "    }\n",
              "\n",
              "    .dataframe tbody tr th {\n",
              "        vertical-align: top;\n",
              "    }\n",
              "\n",
              "    .dataframe thead th {\n",
              "        text-align: right;\n",
              "    }\n",
              "</style>\n",
              "<table border=\"1\" class=\"dataframe\">\n",
              "  <thead>\n",
              "    <tr style=\"text-align: right;\">\n",
              "      <th></th>\n",
              "      <th>no_grass</th>\n",
              "      <th>no_tiles</th>\n",
              "      <th>no_concrete</th>\n",
              "    </tr>\n",
              "    <tr>\n",
              "      <th>province</th>\n",
              "      <th></th>\n",
              "      <th></th>\n",
              "      <th></th>\n",
              "    </tr>\n",
              "  </thead>\n",
              "  <tbody>\n",
              "    <tr>\n",
              "      <th>RIFT VALLEY</th>\n",
              "      <td>413394</td>\n",
              "      <td>32928</td>\n",
              "      <td>15656</td>\n",
              "    </tr>\n",
              "    <tr>\n",
              "      <th>NORTH EASTERN</th>\n",
              "      <td>212867</td>\n",
              "      <td>1682</td>\n",
              "      <td>455</td>\n",
              "    </tr>\n",
              "    <tr>\n",
              "      <th>WESTERN</th>\n",
              "      <td>197959</td>\n",
              "      <td>5289</td>\n",
              "      <td>1261</td>\n",
              "    </tr>\n",
              "    <tr>\n",
              "      <th>NYANZA</th>\n",
              "      <td>190006</td>\n",
              "      <td>9812</td>\n",
              "      <td>4797</td>\n",
              "    </tr>\n",
              "    <tr>\n",
              "      <th>EASTERN</th>\n",
              "      <td>113702</td>\n",
              "      <td>12875</td>\n",
              "      <td>10579</td>\n",
              "    </tr>\n",
              "    <tr>\n",
              "      <th>COAST</th>\n",
              "      <td>61928</td>\n",
              "      <td>12931</td>\n",
              "      <td>31213</td>\n",
              "    </tr>\n",
              "    <tr>\n",
              "      <th>CENTRAL</th>\n",
              "      <td>4169</td>\n",
              "      <td>22658</td>\n",
              "      <td>39270</td>\n",
              "    </tr>\n",
              "    <tr>\n",
              "      <th>NAIROBI</th>\n",
              "      <td>185</td>\n",
              "      <td>95617</td>\n",
              "      <td>208148</td>\n",
              "    </tr>\n",
              "  </tbody>\n",
              "</table>\n",
              "</div>"
            ],
            "text/plain": [
              "               no_grass  no_tiles  no_concrete\n",
              "province                                      \n",
              "RIFT VALLEY      413394     32928        15656\n",
              "NORTH EASTERN    212867      1682          455\n",
              "WESTERN          197959      5289         1261\n",
              "NYANZA           190006      9812         4797\n",
              "EASTERN          113702     12875        10579\n",
              "COAST             61928     12931        31213\n",
              "CENTRAL            4169     22658        39270\n",
              "NAIROBI             185     95617       208148"
            ]
          },
          "metadata": {
            "tags": []
          },
          "execution_count": 77
        }
      ]
    },
    {
      "cell_type": "code",
      "metadata": {
        "id": "e0VCCOiCROC2",
        "colab_type": "code",
        "colab": {}
      },
      "source": [
        "import seaborn as sns\n",
        "import matplotlib.pyplot as plt"
      ],
      "execution_count": 0,
      "outputs": []
    },
    {
      "cell_type": "code",
      "metadata": {
        "id": "MAnAsXpJSvDr",
        "colab_type": "code",
        "outputId": "530ef09a-fe91-4723-a6c8-95a09f07c000",
        "colab": {
          "base_uri": "https://localhost:8080/",
          "height": 516
        }
      },
      "source": [
        "grouped.plot(kind = 'bar',figsize=(12,8),logy=True)\n",
        "plt.title('Comparison of roofing materials across provinces',color='darkblue',fontsize=13)\n",
        "plt.xlabel('Province',color='darkblue',fontsize=13)\n",
        "plt.ylabel('Number of Roofing Materials',color='darkblue',fontsize=13)\n",
        "plt.legend(['Grass','Tiles','Concrete'])\n",
        "plt.xticks(rotation=360)\n",
        "plt.show()"
      ],
      "execution_count": 0,
      "outputs": [
        {
          "output_type": "display_data",
          "data": {
            "image/png": "[encoded data removed]",
            "text/plain": [
              "<Figure size 864x576 with 1 Axes>"
            ]
          },
          "metadata": {
            "tags": []
          }
        }
      ]
    },
    {
      "cell_type": "code",
      "metadata": {
        "id": "RpLfMP15S2oZ",
        "colab_type": "code",
        "colab": {}
      },
      "source": [
        ""
      ],
      "execution_count": 0,
      "outputs": []
    }
  ]
}